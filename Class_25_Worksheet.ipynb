{
 "cells": [
  {
   "cell_type": "markdown",
   "id": "c5a2ce25-880a-4df0-b01e-cde8bf1b822c",
   "metadata": {},
   "source": [
    "## Interactive Programming with Widgets Worksheet 2\n",
    "\n",
    "### Part 1 - The widget \"value\"\n",
    "\n",
    "Since we'll be working with widgets again, let's load the module and this time, we'll use the alias \"w\":"
   ]
  },
  {
   "cell_type": "code",
   "execution_count": 32,
   "id": "34784786-99c5-49b3-8c63-226fd4e81c1f",
   "metadata": {},
   "outputs": [],
   "source": [
    "import ipywidgets as w"
   ]
  },
  {
   "cell_type": "markdown",
   "id": "c13aaae7-0c82-41be-9fa9-1202554150cc",
   "metadata": {},
   "source": [
    "As a refresher, go ahead a create a select widget with the following options: 'choice A', 'choice B', and 'choice C' and save the widget in a variable called `widget1`."
   ]
  },
  {
   "cell_type": "code",
   "execution_count": 33,
   "id": "3e4a919b-7c34-4fb2-96cf-e3a61a44a3e5",
   "metadata": {},
   "outputs": [
    {
     "data": {
      "application/vnd.jupyter.widget-view+json": {
       "model_id": "cb635f3a3e9c438f86d963e83c724a8a",
       "version_major": 2,
       "version_minor": 0
      },
      "text/plain": [
       "Select(options=('Choice A', 'Choice B', 'Choice C'), value='Choice A')"
      ]
     },
     "execution_count": 33,
     "metadata": {},
     "output_type": "execute_result"
    }
   ],
   "source": [
    "widget1 = w.Select(options = ['Choice A', 'Choice B', 'Choice C'])\n",
    "widget1"
   ]
  },
  {
   "cell_type": "markdown",
   "id": "d520499a-e5d5-49a7-b9b7-726d6ea795fd",
   "metadata": {},
   "source": [
    "As you can see, when we do not pass the widget a default value, it selects the first choice, in this case 'choice A'. Let's confirm this...run the next code block."
   ]
  },
  {
   "cell_type": "code",
   "execution_count": 34,
   "id": "0857a13b-2224-4ad8-966a-e284f4ef4ed2",
   "metadata": {},
   "outputs": [
    {
     "name": "stdout",
     "output_type": "stream",
     "text": [
      "The current value of widget1 is Choice A.\n"
     ]
    }
   ],
   "source": [
    "print(f'The current value of widget1 is {widget1.value}.')"
   ]
  },
  {
   "cell_type": "markdown",
   "id": "886299f6-df85-4013-9c3f-f337d4acee6f",
   "metadata": {},
   "source": [
    "Up until now, we've simply been drawing widgets. But things get much more interesting when we can do things with them. For any widget that takes a value (e.g., Select, RadioButtons, IntSlider, Text, etc.), we can pull out the current value by including `.value` after the widget name.\n",
    "\n",
    "Now, click on 'choice C' in the Select widget above and rerun the print statement. What happened?\n",
    "\n",
    "Run the next code block to play with several more widgets and then, in the following code block, print out their values. Be sure to change the widgets a few times and reprint the values to see how they update."
   ]
  },
  {
   "cell_type": "code",
   "execution_count": 35,
   "id": "23c6c08b-5f17-4daf-a28d-854335fa35e3",
   "metadata": {},
   "outputs": [
    {
     "data": {
      "application/vnd.jupyter.widget-view+json": {
       "model_id": "96b9068371cb48819f5d8e3d199fae2b",
       "version_major": 2,
       "version_minor": 0
      },
      "text/plain": [
       "HBox(children=(Text(value='', placeholder='Type your favorite color here'), IntSlider(value=0)))"
      ]
     },
     "execution_count": 35,
     "metadata": {},
     "output_type": "execute_result"
    }
   ],
   "source": [
    "widget2 = w.Text(placeholder='Type your favorite color here')\n",
    "widget3 = w.IntSlider(min=0, max=100)\n",
    "box1 = w.HBox([widget2, widget3])\n",
    "box1"
   ]
  },
  {
   "cell_type": "code",
   "execution_count": 36,
   "id": "b4f7797c-c6ab-4249-acc4-5fdc9a1163bc",
   "metadata": {},
   "outputs": [
    {
     "name": "stdout",
     "output_type": "stream",
     "text": [
      ", 0\n"
     ]
    }
   ],
   "source": [
    "print(f'{widget2.value}, {widget3.value}')"
   ]
  },
  {
   "cell_type": "markdown",
   "id": "ef439125-9848-476c-b210-c257a6fd1ce4",
   "metadata": {},
   "source": [
    "Let's rewrite the Blackjack program from the first problem set to use widgets instead of `input()` statements. Revise the code below to include 2 Text widgets for cards 1 and 2 and keep them saved as variables `c1` and `c2`. Don't worry yet if the program doesn't run after you enter the cards, just modify the code so that the 2 widgets appear instead of the input statements. \n",
    "\n",
    "Here's what you'll need to do:\n",
    "1. Change the input() statements to a Text widget\n",
    "2. Create an Output widget and display your Text widgets on the canvas\n",
    "3. Update the call to the blackjack() function at the bottom of the code block so that it uses the value of the Text widgets as its arguments\n",
    "4. On the last line, type the name of your Output widget so that it displays"
   ]
  },
  {
   "cell_type": "code",
   "execution_count": 46,
   "id": "a720cd3d-f195-4ee9-80e7-b4f7ee9fe244",
   "metadata": {},
   "outputs": [
    {
     "data": {
      "application/vnd.jupyter.widget-view+json": {
       "model_id": "88856c74bae549d9bd4d90aac5cfae7c",
       "version_major": 2,
       "version_minor": 0
      },
      "text/plain": [
       "Output()"
      ]
     },
     "execution_count": 46,
     "metadata": {},
     "output_type": "execute_result"
    }
   ],
   "source": [
    "#Modify this code block to use widgets instead of input() statements\n",
    "c1 = w.Text(placeholder = 'Enter your first card')\n",
    "c2 = w.Text(placeholder = 'Enter your second card')\n",
    "\n",
    "out = w.Output()\n",
    "with out:\n",
    "    display(c1)\n",
    "    display(c2)\n",
    "\n",
    "def blackjack(card1, card2):\n",
    "    try:\n",
    "        if card1 == 'A':\n",
    "            card1 = 11\n",
    "        elif card1 == 'J' or card1 == 'Q' or card1 == 'K':\n",
    "            card1 = 10\n",
    "        else:\n",
    "            card1 = int(card1)\n",
    "\n",
    "        if card2 == 'A':\n",
    "            card2 = 11\n",
    "        elif card2 == 'J' or card2 == 'Q' or card2 == 'K':\n",
    "            card2 = 10\n",
    "        else:\n",
    "            card2 = int(card2)\n",
    "\n",
    "        total = card1 + card2\n",
    "\n",
    "        if card1 == 11 and card2 == 11 or card1 == 8 and card2 == 8:\n",
    "            result=('Split them!')\n",
    "        elif total == 21:\n",
    "            result=('Blackjack! You win!')\n",
    "        elif total == 11:\n",
    "            result=('You should double down')\n",
    "        else:\n",
    "            result=('Hit me')\n",
    "        return result\n",
    "    except:\n",
    "        result=('Sorry you entered a non-valid card. Try again with the following cards: 2-10, J, Q, K, or A.')\n",
    "        return result\n",
    "\n",
    "blackjack(c1.value, c2.value)\n",
    "\n",
    "out"
   ]
  },
  {
   "cell_type": "markdown",
   "id": "bba83cfc-eb9d-45bc-9f0f-13839f05a96d",
   "metadata": {},
   "source": [
    "### Part 2 - `.observe()`\n",
    "\n",
    "In the revised code above, the widgets appear asking for your cards, but the game doesn't play. This is not strictly the case...if your last line of code drew the Output widget, comment that line out and then try to rerun the program.\n",
    "\n",
    "You should get a message stating that you entered a non-valid card. The reason for this is that the starting value of your text widgets were empty strings and the blackjack function didn't recognize those as valid cards.\n",
    "\n",
    "We need a way to control when the blackjack function runs so that we can first change the Text widget values to valid cards. That's where the `.observe()` method comes in.\n",
    "\n",
    "Run the code below and see what happens:"
   ]
  },
  {
   "cell_type": "code",
   "execution_count": 52,
   "id": "1fd11635-81bf-42b0-a8f2-395b365f1bf8",
   "metadata": {},
   "outputs": [
    {
     "data": {
      "application/vnd.jupyter.widget-view+json": {
       "model_id": "ee35244a7c974dd88561e74284d0ffdf",
       "version_major": 2,
       "version_minor": 0
      },
      "text/plain": [
       "Output()"
      ]
     },
     "execution_count": 62,
     "metadata": {},
     "output_type": "execute_result"
    }
   ],
   "source": [
    "c1 = w.Text(placeholder='Enter your first card')\n",
    "c2 = w.Text(placeholder='Enter your second card')\n",
    "\n",
    "blackjack_out = w.Output()\n",
    "with blackjack_out:\n",
    "    display(c1)\n",
    "    display(c2)\n",
    "\n",
    "def blackjack(card1, card2):\n",
    "    try:\n",
    "        if card1 == 'A':\n",
    "            card1 = 11\n",
    "        elif card1 == 'J' or card1 == 'Q' or card1 == 'K':\n",
    "            card1 = 10\n",
    "        else:\n",
    "            card1 = int(card1)\n",
    "\n",
    "        if card2 == 'A':\n",
    "            card2 = 11\n",
    "        elif card2 == 'J' or card2 == 'Q' or card2 == 'K':\n",
    "            card2 = 10\n",
    "        else:\n",
    "            card2 = int(card2)\n",
    "\n",
    "        total = card1 + card2\n",
    "\n",
    "        if card1 == 11 and card2 == 11 or card1 == 8 and card2 == 8:\n",
    "            result=('Split them!')\n",
    "        elif total == 21:\n",
    "            result=('Blackjack! You win!')\n",
    "        elif total == 11:\n",
    "            result=('You should double down')\n",
    "        else:\n",
    "            result=('Hit me')\n",
    "        return result\n",
    "    except:\n",
    "        result=('Sorry you entered a non-valid card. Try again with the following cards: 2-10, J, Q, K, or A.')\n",
    "        return result\n",
    "    return result\n",
    "###NEW CODE STARTS\n",
    "def playgame(arg):\n",
    "    blackjack_out.clear_output()\n",
    "    outcome = blackjack(c1.value, c2.value)\n",
    "    with blackjack_out:\n",
    "        display(w.Label(value=outcome))\n",
    "\n",
    "c2.observe(playgame)\n",
    "###NEW CODE ENDS\n",
    "\n",
    "blackjack_out"
   ]
  },
  {
   "cell_type": "markdown",
   "id": "701134e0-b092-4b2f-8004-d23e974d944d",
   "metadata": {},
   "source": [
    "The game should now play after you've entered the 2nd card value. Here's why:\n",
    "\n",
    "For a widget where the user can change the value, the `observe()` method tells python what to do when the value for that widget *changes*. So, initially, your browser is hanging out waiting for you to do something. And my code has told it to run a function called `playgame` when the value of the 2nd card has changed.\n",
    "\n",
    "Look in the `playgame` function. I've programmed 3 things to occur:\n",
    "1. First, clear the output canvas of any widgets or previous messages\n",
    "2. Next, play the blackjack() game using the values for the c1 and c2 widgets and save the result to a variable called `outcome`\n",
    "3. Finally, add a new Label widget to the output canvas with the result of your game"
   ]
  },
  {
   "cell_type": "markdown",
   "id": "c50c7d6c-3811-407f-bde6-cc2d21ba18d3",
   "metadata": {},
   "source": [
    "### Part 3 - `.on_click()`\n",
    "\n",
    "It's nice that we were able to get the game to play using the Text widgets. But what if the player entered the 2nd card before the first. Try it out above to see what happens...\n",
    "\n",
    "You'll get a message saying you need to enter a valid card because the game is triggered on the 2nd card entry and so, for the first card, the blackjack() function is still using the initial value of an empty string for the first card.\n",
    "\n",
    "A better way to make this program run is to use a Button widget and then trigger the start of the game based on when someone clicks the button. Like `.observe()`, the `.on_click()` method is triggered to do something when you click the widget as long as you pass it a function.\n",
    "\n",
    "Revise the code below as follows:\n",
    "1. Create a Button widget that says 'Click to play'\n",
    "2. Add the Button widget to the output canvas\n",
    "3. Replace the `.observe` command to a `.on_click()` command to run the playgame() function when the button is clicked"
   ]
  },
  {
   "cell_type": "code",
   "execution_count": 71,
   "id": "71520379-c8ae-441f-8ca9-3909ab588cdd",
   "metadata": {},
   "outputs": [
    {
     "data": {
      "application/vnd.jupyter.widget-view+json": {
       "model_id": "16ce5b3ac61f47a49f04ed9f9fa817cc",
       "version_major": 2,
       "version_minor": 0
      },
      "text/plain": [
       "Output()"
      ]
     },
     "execution_count": 71,
     "metadata": {},
     "output_type": "execute_result"
    }
   ],
   "source": [
    "# Update the code below to play the game on the click of a button\n",
    "\n",
    "c1 = w.Text(placeholder='Enter your first card')\n",
    "c2 = w.Text(placeholder='Enter your second card')\n",
    "\n",
    "blackjack_out = w.Output()\n",
    "with blackjack_out:\n",
    "    display(c1)\n",
    "    display(c2)\n",
    "\n",
    "def blackjack(card1, card2):\n",
    "    try:\n",
    "        if card1 == 'A':\n",
    "            card1 = 11\n",
    "        elif card1 == 'J' or card1 == 'Q' or card1 == 'K':\n",
    "            card1 = 10\n",
    "        else:\n",
    "            card1 = int(card1)\n",
    "\n",
    "        if card2 == 'A':\n",
    "            card2 = 11\n",
    "        elif card2 == 'J' or card2 == 'Q' or card2 == 'K':\n",
    "            card2 = 10\n",
    "        else:\n",
    "            card2 = int(card2)\n",
    "\n",
    "        total = card1 + card2\n",
    "\n",
    "        if card1 == 11 and card2 == 11 or card1 == 8 and card2 == 8:\n",
    "            result=('Split them!')\n",
    "        elif total == 21:\n",
    "            result=('Blackjack! You win!')\n",
    "        elif total == 11:\n",
    "            result=('You should double down')\n",
    "        else:\n",
    "            result=('Hit me')\n",
    "        return result\n",
    "    except:\n",
    "        result=('Sorry you entered a non-valid card. Try again with the following cards: 2-10, J, Q, K, or A.')\n",
    "        return result\n",
    "\n",
    "def playgame(arg):\n",
    "    blackjack_out.clear_output()\n",
    "    outcome = blackjack(c1.value, c2.value)\n",
    "    with blackjack_out:\n",
    "        display(w.Label(value=outcome))\n",
    "\n",
    "c2.observe(playgame)\n",
    "\n",
    "blackjack_out"
   ]
  },
  {
   "cell_type": "markdown",
   "id": "7536b635-0862-46ed-ac0d-a4071b5f051e",
   "metadata": {},
   "source": [
    "Once you've got the button working, try entering the 2nd card first to ensure that the game won't play until the button is clicked.\n",
    "\n",
    "### *In summary...*\n",
    "\n",
    "The purpose of this exercise was to show how you can use your widgets not only to extract values from the user, but also to then perform actions either when something is clicked or when a widget value is changed."
   ]
  },
  {
   "cell_type": "markdown",
   "id": "1fc58db3-2cc2-483f-9fc8-f3d830709c05",
   "metadata": {},
   "source": [
    "### Exercise 1\n",
    "\n",
    "Modify the code below to replace the `input()` function on line 3 with a text widget. Then add a button that says \"Click to Search\" and create a function which will query the API when the button is clicked and print out the max temperature."
   ]
  },
  {
   "cell_type": "code",
   "execution_count": 72,
   "id": "2cf20a1b-6fcf-4a88-8f11-895175283a67",
   "metadata": {
    "slideshow": {
     "slide_type": "slide"
    },
    "tags": []
   },
   "outputs": [
    {
     "name": "stdin",
     "output_type": "stream",
     "text": [
      "Enter a city:  pittsburgh\n"
     ]
    },
    {
     "name": "stdout",
     "output_type": "stream",
     "text": [
      "The max temp for pittsburgh is 53.312000000000054\n"
     ]
    }
   ],
   "source": [
    "import requests\n",
    "\n",
    "search = input(\"Enter a city: \")\n",
    "\n",
    "site = \"http://api.openweathermap.org/data/2.5/weather\"\n",
    "city = search\n",
    "appid = \"72affbf255c06c1f17a45ac3e3b8f353\"\n",
    "parameters = {\"q\": city, \"appid\": appid}\n",
    "\n",
    "r = requests.get(site, parameters)\n",
    "r_dict = r.json()\n",
    "\n",
    "max_temp = r_dict[\"main\"][\"temp_max\"]\n",
    "temp_fahr = (max_temp - 273.15)*9/5 + 32\n",
    "\n",
    "print(f\"The max temp for {search} is {temp_fahr}\")\n"
   ]
  },
  {
   "cell_type": "markdown",
   "id": "c801cab1-0e1f-4726-aafd-38d2c6d693e3",
   "metadata": {},
   "source": [
    "### Exercise 2\n",
    "\n",
    "The weather API you accessed above sends back a dictionary with the following keys for the main weather station:\n",
    "\n",
    "```\n",
    "'main':   {'temp': 292.48,\n",
    "           'feels_like': 292.77,\n",
    "           'temp_min': 291.19,\n",
    "           'temp_max': 294.6,\n",
    "           'pressure': 1013,\n",
    "           'humidity': 88}\n",
    "```\n",
    "\n",
    "Now add to your code above to include a select widget with these keys: \"temp\", \"feels_like\", \"temp_min\", and \"temp_max\". Then revise your code to print out the name of the key and the corresponding temperature converted to Fahrenheit."
   ]
  },
  {
   "cell_type": "code",
   "execution_count": null,
   "id": "9d7b311d-314e-4a74-8156-2fac531bdb6a",
   "metadata": {},
   "outputs": [],
   "source": []
  },
  {
   "cell_type": "markdown",
   "id": "3181172a-2a00-4d0a-a70d-85564c0a9ced",
   "metadata": {},
   "source": [
    "Now see if you can modify the code to print a message that is more user-friendly (instead of just printing the dictionary key from the main weather station)."
   ]
  },
  {
   "cell_type": "code",
   "execution_count": null,
   "id": "087c6e76-e9b7-4cf5-8646-e72a196c9294",
   "metadata": {},
   "outputs": [],
   "source": []
  },
  {
   "cell_type": "markdown",
   "id": "92f889ab-010b-49d2-b2d5-4477f4d0d858",
   "metadata": {},
   "source": [
    "### Exercise 3\n",
    "\n",
    "What if, instead of clearing your output widget completely, you only wanted to clear the response from the API? You can do this by creating multiple output widgets and then only clearing the one you want to reset.\n",
    "\n",
    "Take your code from above and now create 3 output widgets total:\n",
    "1. an output widget for the text box, select menu, and button\n",
    "2. an output widget for the results label widget\n",
    "3. an output widget that contains the other 2 output widgets\n",
    "\n",
    "Then update your code so that only the results label widget clears with each search."
   ]
  },
  {
   "cell_type": "code",
   "execution_count": null,
   "id": "2ed7a422-9837-45dd-954a-a98ddca04ac1",
   "metadata": {},
   "outputs": [],
   "source": []
  }
 ],
 "metadata": {
  "kernelspec": {
   "display_name": "Python 3 (ipykernel)",
   "language": "python",
   "name": "python3"
  },
  "language_info": {
   "codemirror_mode": {
    "name": "ipython",
    "version": 3
   },
   "file_extension": ".py",
   "mimetype": "text/x-python",
   "name": "python",
   "nbconvert_exporter": "python",
   "pygments_lexer": "ipython3",
   "version": "3.10.8"
  }
 },
 "nbformat": 4,
 "nbformat_minor": 5
}
