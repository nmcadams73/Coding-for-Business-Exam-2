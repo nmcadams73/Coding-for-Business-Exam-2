{
 "cells": [
  {
   "cell_type": "markdown",
   "metadata": {
    "slideshow": {
     "slide_type": "slide"
    },
    "tags": []
   },
   "source": [
    "# Exceptions Worksheet\n",
    "\n",
    "Run the following code to get multiple outputs:"
   ]
  },
  {
   "cell_type": "code",
   "execution_count": null,
   "metadata": {
    "slideshow": {
     "slide_type": "slide"
    },
    "tags": []
   },
   "outputs": [],
   "source": [
    "#Print multiple outputs from a cell\n",
    "get_ipython().ast_node_interactivity = 'all'"
   ]
  },
  {
   "cell_type": "markdown",
   "metadata": {
    "slideshow": {
     "slide_type": "slide"
    },
    "tags": []
   },
   "source": [
    "## Exceptions\n",
    "\n",
    "We've all experienced errors in our code.  The Python terminology for a Python error is *exception*.\n",
    "\n",
    "* We say that Python raises an exception when something bad has happened that Python can't recover from -- division by 0, trying to convert \"monkeypickles\" into an integer, trying to access an index of a list that doesn't exist, etc. \n",
    "\n",
    "When Python stops the action to raise an exception, your program terminates. And Python prints a lot of information that can be awfully cryptic. \n",
    "\n",
    "But sometimes you can anticipate errors and deal with them inside your code so that it doesn't terminate.  Let's look a little more at how and when to do that.  "
   ]
  },
  {
   "cell_type": "markdown",
   "metadata": {
    "slideshow": {
     "slide_type": "slide"
    },
    "tags": []
   },
   "source": [
    "Let's look at this code."
   ]
  },
  {
   "cell_type": "code",
   "execution_count": 3,
   "metadata": {
    "slideshow": {
     "slide_type": "fragment"
    },
    "tags": []
   },
   "outputs": [
    {
     "name": "stdin",
     "output_type": "stream",
     "text": [
      "Give me a numerator:  apple\n"
     ]
    },
    {
     "ename": "ValueError",
     "evalue": "could not convert string to float: 'apple'",
     "output_type": "error",
     "traceback": [
      "\u001b[0;31m---------------------------------------------------------------------------\u001b[0m",
      "\u001b[0;31mValueError\u001b[0m                                Traceback (most recent call last)",
      "Cell \u001b[0;32mIn[3], line 1\u001b[0m\n\u001b[0;32m----> 1\u001b[0m numerator \u001b[38;5;241m=\u001b[39m \u001b[38;5;28;43mfloat\u001b[39;49m\u001b[43m(\u001b[49m\u001b[38;5;28;43minput\u001b[39;49m\u001b[43m(\u001b[49m\u001b[38;5;124;43m'\u001b[39;49m\u001b[38;5;124;43mGive me a numerator: \u001b[39;49m\u001b[38;5;124;43m'\u001b[39;49m\u001b[43m)\u001b[49m\u001b[43m)\u001b[49m\n\u001b[1;32m      2\u001b[0m denominator \u001b[38;5;241m=\u001b[39m \u001b[38;5;28mfloat\u001b[39m(\u001b[38;5;28minput\u001b[39m(\u001b[38;5;124m'\u001b[39m\u001b[38;5;124mGive me a denominator: \u001b[39m\u001b[38;5;124m'\u001b[39m))\n\u001b[1;32m      3\u001b[0m quotient \u001b[38;5;241m=\u001b[39m numerator \u001b[38;5;241m/\u001b[39m denominator\n",
      "\u001b[0;31mValueError\u001b[0m: could not convert string to float: 'apple'"
     ]
    }
   ],
   "source": [
    "numerator = float(input('Give me a numerator: '))\n",
    "denominator = float(input('Give me a denominator: '))\n",
    "quotient = numerator / denominator\n",
    "print('The quotient is', quotient)"
   ]
  },
  {
   "cell_type": "markdown",
   "metadata": {
    "slideshow": {
     "slide_type": "slide"
    },
    "tags": []
   },
   "source": [
    "## Try statements\n",
    "\n",
    "The idea of try and except is that you know that some sequence of instruction(s) may have a problem and you want to add some statements to be executed if an error occurs. (Python for Everybody, section 3.7).  This can prevent your code from \"blowing up\" and stopping execution.\n",
    "\n",
    "The try statement executes and monitors the statements in the first block. If no exceptions occur, it skips the block under the except clause. If any exception occurs, it executes the statements in the except clause and then continues."
   ]
  },
  {
   "cell_type": "code",
   "execution_count": 4,
   "metadata": {
    "slideshow": {
     "slide_type": "slide"
    },
    "tags": []
   },
   "outputs": [
    {
     "name": "stdin",
     "output_type": "stream",
     "text": [
      "Give me a numerator:  12\n",
      "Give me a denominator:  no\n"
     ]
    },
    {
     "name": "stdout",
     "output_type": "stream",
     "text": [
      "Something went wrong. Sorry. Really.\n"
     ]
    }
   ],
   "source": [
    "try:\n",
    "    numerator = float(input('Give me a numerator: '))\n",
    "    denominator = float(input('Give me a denominator: '))\n",
    "    quotient = numerator / denominator\n",
    "    print('The quotient is', quotient)\n",
    "except:\n",
    "    print('Something went wrong. Sorry. Really.')"
   ]
  },
  {
   "cell_type": "markdown",
   "metadata": {
    "slideshow": {
     "slide_type": "slide"
    },
    "tags": []
   },
   "source": [
    "## More detail:  more specific error messages\n",
    "The try statement executes and monitors the statements in the first block. If no exceptions occur, it skips the block under the except clause. If any exception occurs, it executes the statements in the except clause and then continues."
   ]
  },
  {
   "cell_type": "code",
   "execution_count": 8,
   "metadata": {
    "slideshow": {
     "slide_type": "slide"
    },
    "tags": []
   },
   "outputs": [
    {
     "name": "stdin",
     "output_type": "stream",
     "text": [
      "Give me a numerator:  0\n",
      "Give me a denominator:  0\n"
     ]
    },
    {
     "name": "stdout",
     "output_type": "stream",
     "text": [
      "No can divide by zero.\n",
      "This line runs after any except statement.\n"
     ]
    }
   ],
   "source": [
    "try:\n",
    "    numerator = float(input('Give me a numerator: '))\n",
    "    denominator = float(input('Give me a denominator: '))\n",
    "    quotient = numerator / denominator\n",
    "    print('The quotient is', quotient)\n",
    "except ValueError:\n",
    "    print(f'Your numerator or denominator is not a number.')\n",
    "except ZeroDivisionError:\n",
    "    print('No can divide by zero.')\n",
    "except:\n",
    "    print(\"An error occurred, but I don't know exactly what.\")\n",
    "\n",
    "print('This line runs after any except statement.')"
   ]
  },
  {
   "cell_type": "markdown",
   "metadata": {
    "slideshow": {
     "slide_type": "slide"
    },
    "tags": []
   },
   "source": [
    "## More detail:  How to know which type of error to catch?\n",
    "\n",
    "Stress test your code and see what happens:  "
   ]
  },
  {
   "cell_type": "code",
   "execution_count": 16,
   "metadata": {
    "slideshow": {
     "slide_type": "fragment"
    },
    "tags": []
   },
   "outputs": [
    {
     "name": "stdin",
     "output_type": "stream",
     "text": [
      "Give me a numerator:  12\n",
      "Give me a denominator:  3\n"
     ]
    },
    {
     "name": "stdout",
     "output_type": "stream",
     "text": [
      "The quotient is 4.0\n"
     ]
    }
   ],
   "source": [
    "numerator = float(input('Give me a numerator: '))\n",
    "denominator = float(input('Give me a denominator: '))\n",
    "quotient = numerator / denominator\n",
    "print('The quotient is', quotient)"
   ]
  },
  {
   "cell_type": "markdown",
   "metadata": {
    "slideshow": {
     "slide_type": "slide"
    },
    "tags": []
   },
   "source": [
    "## Let's see this in action...\n",
    "\n",
    "You can use try/except to _assume_ an operation will work and then deal with it if you received a data type that isn't quite right."
   ]
  },
  {
   "cell_type": "code",
   "execution_count": 4,
   "metadata": {
    "slideshow": {
     "slide_type": "slide"
    },
    "tags": []
   },
   "outputs": [
    {
     "name": "stdout",
     "output_type": "stream",
     "text": [
      "There were 2 numbers under three.\n"
     ]
    }
   ],
   "source": [
    "mylist = [17, 4, 8, 2, 3, 1]\n",
    "count = 0\n",
    "\n",
    "for element in mylist:\n",
    "    if element < 3:\n",
    "        count = count + 1\n",
    "\n",
    "print(f'There were {count} numbers under three.')"
   ]
  },
  {
   "cell_type": "markdown",
   "metadata": {
    "slideshow": {
     "slide_type": "fragment"
    },
    "tags": []
   },
   "source": [
    "If mylist is a list of numbers, everything works fine, as above.\n",
    "\n",
    "But what if mylist is something else?"
   ]
  },
  {
   "cell_type": "code",
   "execution_count": 5,
   "metadata": {
    "slideshow": {
     "slide_type": "fragment"
    },
    "tags": []
   },
   "outputs": [
    {
     "ename": "TypeError",
     "evalue": "'<' not supported between instances of 'str' and 'int'",
     "output_type": "error",
     "traceback": [
      "\u001b[0;31m---------------------------------------------------------------------------\u001b[0m",
      "\u001b[0;31mTypeError\u001b[0m                                 Traceback (most recent call last)",
      "Cell \u001b[0;32mIn[5], line 5\u001b[0m\n\u001b[1;32m      2\u001b[0m count \u001b[38;5;241m=\u001b[39m \u001b[38;5;241m0\u001b[39m\n\u001b[1;32m      4\u001b[0m \u001b[38;5;28;01mfor\u001b[39;00m element \u001b[38;5;129;01min\u001b[39;00m mylist:\n\u001b[0;32m----> 5\u001b[0m     \u001b[38;5;28;01mif\u001b[39;00m \u001b[43melement\u001b[49m\u001b[43m \u001b[49m\u001b[38;5;241;43m<\u001b[39;49m\u001b[43m \u001b[49m\u001b[38;5;241;43m3\u001b[39;49m:\n\u001b[1;32m      6\u001b[0m         count \u001b[38;5;241m=\u001b[39m count \u001b[38;5;241m+\u001b[39m \u001b[38;5;241m1\u001b[39m\n\u001b[1;32m      8\u001b[0m \u001b[38;5;28mprint\u001b[39m(\u001b[38;5;124mf\u001b[39m\u001b[38;5;124m'\u001b[39m\u001b[38;5;124mThere were \u001b[39m\u001b[38;5;132;01m{\u001b[39;00mcount\u001b[38;5;132;01m}\u001b[39;00m\u001b[38;5;124m numbers under three.\u001b[39m\u001b[38;5;124m'\u001b[39m)\n",
      "\u001b[0;31mTypeError\u001b[0m: '<' not supported between instances of 'str' and 'int'"
     ]
    }
   ],
   "source": [
    "mylist = [4.2, \"peanut butter\", 8, -1, True]\n",
    "count = 0\n",
    "\n",
    "for element in mylist:\n",
    "    if element < 3:\n",
    "        count = count + 1\n",
    "\n",
    "print(f'There were {count} numbers under three.')"
   ]
  },
  {
   "cell_type": "markdown",
   "metadata": {
    "slideshow": {
     "slide_type": "fragment"
    },
    "tags": []
   },
   "source": [
    "You get an error."
   ]
  },
  {
   "cell_type": "markdown",
   "metadata": {
    "slideshow": {
     "slide_type": "slide"
    },
    "tags": []
   },
   "source": [
    "## Practice Problems\n",
    "\n",
    "### Problem 1\n",
    "\n",
    "Write the code above to be more robust.  You do not have to look for specific types of error messages."
   ]
  },
  {
   "cell_type": "code",
   "execution_count": 6,
   "metadata": {
    "slideshow": {
     "slide_type": "fragment"
    },
    "tags": []
   },
   "outputs": [
    {
     "name": "stdout",
     "output_type": "stream",
     "text": [
      "Skipping peanut butter\n",
      "There were 1 numbers under three\n"
     ]
    }
   ],
   "source": [
    "mylist = [4.2, \"peanut butter\", 8, -1]\n",
    "\n",
    "for element in mylist:\n",
    "    try:\n",
    "        if element < 3:\n",
    "            count = count + 1\n",
    "    except:\n",
    "        print(f\"Skipping {element}\")\n",
    "\n",
    "print('There were', count, 'numbers under three')        "
   ]
  },
  {
   "cell_type": "markdown",
   "metadata": {
    "slideshow": {
     "slide_type": "slide"
    },
    "tags": []
   },
   "source": [
    "### Problem 2\n",
    "\n",
    "Adapt the code from the previous exercise to write code to count how many **positive** numbers are less than 3, giving appropriate messages for each element that is not a positive number."
   ]
  },
  {
   "cell_type": "code",
   "execution_count": null,
   "metadata": {
    "slideshow": {
     "slide_type": "fragment"
    },
    "tags": []
   },
   "outputs": [],
   "source": []
  },
  {
   "cell_type": "markdown",
   "metadata": {
    "tags": []
   },
   "source": [
    "### Problem 3\n",
    "\n",
    "There are several mistakes in the code below. Rather than trying to fix the code directly, run it first to see what error(s) you get. Be sure to test different scenarios and when an error message is returned, see if you can fix it."
   ]
  },
  {
   "cell_type": "code",
   "execution_count": 1,
   "metadata": {
    "tags": []
   },
   "outputs": [
    {
     "name": "stdin",
     "output_type": "stream",
     "text": [
      "Enter your password:  no\n",
      "Enter your password:  secretpassword\n"
     ]
    },
    {
     "name": "stdout",
     "output_type": "stream",
     "text": [
      "Welcome! You have logged in successfully. It took you 2 attempts.\n"
     ]
    }
   ],
   "source": [
    "real_password = 'secretpassword'\n",
    "\n",
    "for attempt in [1, 2, 3, 4]:\n",
    "    if attempt == 4:\n",
    "        print('Too many login attempts. Goodbye.')\n",
    "        break\n",
    "    response = input('Enter your password: ')\n",
    "    if response == real_password:\n",
    "        if attempt < 4:\n",
    "            print(f\"Welcome! You have logged in successfully. It took you {attempt} attempts.\")\n",
    "            break"
   ]
  },
  {
   "cell_type": "markdown",
   "metadata": {},
   "source": [
    "### Problem 4\n",
    "\n",
    "Here's another block of code. Run this and try to fix the errors. Again, pay attention to the exception messages to see if you can interpret what it's telling you."
   ]
  },
  {
   "cell_type": "code",
   "execution_count": null,
   "metadata": {},
   "outputs": [],
   "source": [
    "student_list = ['Baddock, Malcolm, Slytherin', 'Bell, Katie, Gryffindor', 'Bones, Susan, Hufflepuff', 'Boot, Terry, Ravenclaw', 'Branstone, Eleanor, Hufflepuff', 'Brocklehurst, Mandy, Ravenclaw', 'Brown, Lavender, Gryffindor', 'Bulstrode, Millicent, Slytherin', 'Carmichael, Eddie, Ravenclaw', 'Cauldwell, Owen, Hufflepuff', 'Chang, Cho, Ravenclaw', 'Clearwater, Penelope, Ravenclaw', 'Coote, Ritchie, Gryffindor', 'Corner, Michael, Ravenclaw', 'Cornfoot, Stephen, Hufflepuff', 'Crabbe, Vincent, Slytherin', 'Creevey, Colin, Gryffindor', 'Creevey, Dennis, Gryffindor', 'Davies, Roger, Ravenclaw', 'Davis, Tracey, Slytherin', 'Diggory, Cedric, Hufflepuff', 'Edgecombe, Marietta, Ravenclaw', 'Entwhistle, Kevin, Hufflepuff', 'Finch-Fletchley, Justin, Hufflepuff', 'Finnigan, Seamus, Gryffindor', 'Goldstein, Anthony, Ravenclaw', 'Goyle, Gregory, Slytherin', 'Granger, Hermione, Gryffindor', 'Greengrass, Astoria, Slytherin', 'Greengrass, Daphne, Slytherin', 'Higgs, Terence, Slytherin', 'Hooper, Geoffrey, Gryffindor', 'Hopkins, Wayne, Hufflepuff', 'Jordan, Lee, Gryffindor', 'Kirke, Andrew, Gryffindor', 'Li, Su, Ravenclaw', 'Longbottom, Neville, Gryffindor', 'Lovegood, Luna, Ravenclaw', 'Macmillan, Ernie, Hufflepuff', 'Madley, Laura, Hufflepuff', 'Malfoy, Draco, Slytherin', 'McDonald, Natalie, Gryffindor', 'McDougal, Morag, Ravenclaw', 'McLaggen, Cormac, Gryffindor', 'Midgen, Eloise, Gryffindor', 'Nott, Theodore, Slytherin', 'Parkinson, Pansy, Slytherin', 'Patil, Padma, Ravenclaw', 'Patil, Parvati, Gryffindor', 'Peakes, Jimmy, Gryffindor', 'Potter, Harry, Gryffindor', 'Pritchard, Graham, Slytherin', 'Pucey, Adrian, Slytherin', 'Quirke, Orla, Ravenclaw', 'Robins, Demelza, Gryffindor', 'Sloper, Jack, Gryffindor', 'Smith, Zacharias, Hufflepuff', 'Thomas, Dean, Gryffindor', 'Turpin, Lisa, Ravenclaw', 'Vane, Romilda, Gryffindor', 'Weasley, Fred, Gryffindor', 'Weasley, George, Gryffindor', 'Weasley, Ginny, Gryffindor', 'Weasley, Ron, Gryffindor', 'Whitby, Kevin, Hufflepuff', 'Zabini, Blaise, Slytherin', 'Zeller, Rose, Hufflepuff']\n",
    "\n",
    "for student in student_list:\n",
    "    split_list = student_list.split(', ')\n",
    "    print(split_list(1) + ' ' + split_list[0] \n",
    "          + ' '*(32-(len(split_list[1])+len(split_list[0]))) + split_list[2] \n",
    "          + ' '*(20-len(split_list[3])) + split_list[0][0:6] + split_list[1][0] \n",
    "          + '@hogwarts.edu')\n",
    "    "
   ]
  },
  {
   "cell_type": "markdown",
   "metadata": {},
   "source": [
    "### Problem 5\n",
    "\n",
    "Here's another block of code to fix:"
   ]
  },
  {
   "cell_type": "code",
   "execution_count": null,
   "metadata": {},
   "outputs": [],
   "source": [
    "sentence = input('Enter a sentence: ')\n",
    "\n",
    "for c in sentence:\n",
    "    if c = 'e':\n",
    "        e_count += 1\n",
    "\n",
    "print('Your sentence contained the letter e ' +e_count + ' times.')"
   ]
  },
  {
   "cell_type": "markdown",
   "metadata": {},
   "source": [
    "### Problem 6a\n",
    "\n",
    "Finally, here's the blackjack program from Lab 01. There are no errors in this program. However, when you enter any letter other than J, Q, K, or A, you will get an exception. (Run the code now and try to use a Z as one of the cards to see what the exception message is.)\n",
    "\n",
    "Your goal is to try to \"fix\" this code so that, if the user enters a non-valid letter card, they will get the following message: 'Sorry, you entered a non-valid card. Try again with the following cards: 2-10, J, Q, K, or A.' For this, you should use *try...except* in your code...don't just write more *if* statements."
   ]
  },
  {
   "cell_type": "code",
   "execution_count": null,
   "metadata": {},
   "outputs": [],
   "source": [
    "card1 = input('Enter the first card: ')\n",
    "card2 = input('Enter the second card: ')\n",
    "\n",
    "if card1 == 'A':\n",
    "    card1 = 11\n",
    "elif card1 == 'J' or card1 == 'Q' or card1 == 'K':\n",
    "    card1 = 10\n",
    "else:\n",
    "    card1 = int(card1)\n",
    "\n",
    "if card2 == 'A':\n",
    "    card2 = 11\n",
    "elif card2 == 'J' or card2 == 'Q' or card2 == 'K':\n",
    "    card2 = 10\n",
    "else:\n",
    "    card2 = int(card2)\n",
    "\n",
    "total = card1 + card2\n",
    "\n",
    "if card1 == 11 and card2 == 11 or card1 == 8 and card2 == 8:\n",
    "    print('Split them!')\n",
    "elif total == 21:\n",
    "    print('Blackjack! You win!')\n",
    "elif total == 11:\n",
    "    print('You should double down')\n",
    "else:\n",
    "    print('Hit me')"
   ]
  },
  {
   "cell_type": "markdown",
   "metadata": {},
   "source": [
    "### Problem 6b\n",
    "\n",
    "Here's the first code block from above with the errors fixed. However, instead of using an 'else' clause at the end, it now uses an 'except' clause. Why will this code never print 'Too many login attempts. Goodbye.'?"
   ]
  },
  {
   "cell_type": "code",
   "execution_count": null,
   "metadata": {
    "tags": []
   },
   "outputs": [],
   "source": [
    "real_password = 'secretpassword'\n",
    "\n",
    "for attempt in [1, 2, 3, 4]:\n",
    "    if attempt == 4:\n",
    "        break\n",
    "    \n",
    "    response = input('Enter your password: ')\n",
    "    if response == real_password:\n",
    "        break\n",
    "try:        \n",
    "    if attempt < 4:\n",
    "        print('Welcome! You have logged in successfully. It took you ' + str(attempt) + ' attempts.')\n",
    "except:\n",
    "    print('Too many login attempts. Goodbye.')"
   ]
  },
  {
   "cell_type": "markdown",
   "metadata": {},
   "source": [
    "Type your answer here: ....................."
   ]
  }
 ],
 "metadata": {
  "kernelspec": {
   "display_name": "Python 3 (ipykernel)",
   "language": "python",
   "name": "python3"
  },
  "language_info": {
   "codemirror_mode": {
    "name": "ipython",
    "version": 3
   },
   "file_extension": ".py",
   "mimetype": "text/x-python",
   "name": "python",
   "nbconvert_exporter": "python",
   "pygments_lexer": "ipython3",
   "version": "3.10.8"
  }
 },
 "nbformat": 4,
 "nbformat_minor": 4
}
