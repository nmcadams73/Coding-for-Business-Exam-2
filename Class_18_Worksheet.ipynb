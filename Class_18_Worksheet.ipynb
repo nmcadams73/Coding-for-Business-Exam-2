{
 "cells": [
  {
   "cell_type": "markdown",
   "metadata": {
    "id": "eN9YViPLFxUx",
    "tags": []
   },
   "source": [
    "## Advanced Use of Lists and Dictionaries\n",
    "\n"
   ]
  },
  {
   "cell_type": "code",
   "execution_count": 11,
   "metadata": {
    "slideshow": {
     "slide_type": "fragment"
    },
    "tags": []
   },
   "outputs": [],
   "source": [
    "#Print multiple outputs from a cell\n",
    "get_ipython().ast_node_interactivity = 'all'"
   ]
  },
  {
   "cell_type": "markdown",
   "metadata": {
    "id": "kS6j7ToMFSpS",
    "tags": []
   },
   "source": [
    "## Reading in data from files\n",
    "\n",
    "All the data we've worked with so far disappears when we turn off the computer.  So data is often stored in files to make it persistent.  We'll work with text files in this class.\n",
    "\n",
    "View your file in Jupyter Lab by double clicking the file name in the file explorer.  We are going to work with states.txt first.\n",
    "\n",
    "Getting data from files into Python has three steps:\n",
    "1.  open the file\n",
    "2.  read data from file\n",
    "3.  close the file"
   ]
  },
  {
   "cell_type": "markdown",
   "metadata": {
    "id": "6IqZOykWFSpS",
    "tags": []
   },
   "source": [
    "### Opening a file\n",
    "\n",
    "To open a file you assign a variable to the result of `open(\"name_of_your_file\", \"r\")`, which produces a *file object*.  \n",
    "* The variable name you choose is how you will refer to the file in your Python code.\n",
    "* The `r` parameter ensures that the file will open as read-only.  If you don't need to change the file this is best so you don't accidentally do so."
   ]
  },
  {
   "cell_type": "code",
   "execution_count": 3,
   "metadata": {
    "id": "MmgfsGFgFSpS",
    "tags": []
   },
   "outputs": [],
   "source": [
    "## Assuming your file is in the folder you're working in...\n",
    "\n",
    "f = open('hokeypokey.txt', 'r')  # opens a file to use.  The 'r' argument opens as read-only.  This is also the default."
   ]
  },
  {
   "cell_type": "markdown",
   "metadata": {
    "id": "WAQQMI11FSpS",
    "tags": []
   },
   "source": [
    "### Reading in data from a file\n",
    "\n",
    "We often work with files that are really large, and so it's best practice to read them in one line at a time, process the line, store what you need, and then move on.  This way the entire file is not stored in your computer's memory.\n",
    "\n",
    "Python naturally thinks of files as a collection of lines.  So if file is an object to loop through in a `for` statement, each element will be a line."
   ]
  },
  {
   "cell_type": "code",
   "execution_count": 4,
   "metadata": {
    "id": "4Xnm-Yq-FSpS",
    "tags": []
   },
   "outputs": [
    {
     "name": "stdout",
     "output_type": "stream",
     "text": [
      "['You', 'put', 'your', 'right', 'foot', 'in\\n']\n",
      "['You', 'put', 'your', 'right', 'foot', 'out\\n']\n",
      "['You', 'put', 'your', 'right', 'foot', 'in\\n']\n",
      "['And', 'you', 'shake', 'it', 'all', 'about\\n']\n",
      "['You', 'do', 'the', 'Hokey-Pokey\\n']\n",
      "['And', 'you', 'turn', 'yourself', 'around\\n']\n",
      "[\"That's\", 'what', \"it's\", 'all', 'about']\n"
     ]
    }
   ],
   "source": [
    "f = open('hokeypokey.txt', 'r')  # opens a file to use.  The 'r' argument opens as read-only.  This is also the default.\n",
    "\n",
    "for line in f:\n",
    "    line_list = line.split(\" \")\n",
    "    print(line_list)\n"
   ]
  },
  {
   "cell_type": "markdown",
   "metadata": {
    "id": "JtS_X6soFSpT",
    "tags": []
   },
   "source": [
    "### Closing a file\n",
    "\n",
    "After you are done extracting everything you need from the file (not just completing one iteration of a for loop) it's best practice to close the file.\n",
    "\n",
    "This prevents you from accidentally overwriting the file."
   ]
  },
  {
   "cell_type": "code",
   "execution_count": 5,
   "metadata": {
    "id": "k-IpgqFWFSpT",
    "tags": []
   },
   "outputs": [
    {
     "name": "stdout",
     "output_type": "stream",
     "text": [
      "['You', 'put', 'your', 'right', 'foot', 'in\\n']\n",
      "['You', 'put', 'your', 'right', 'foot', 'out\\n']\n",
      "['You', 'put', 'your', 'right', 'foot', 'in\\n']\n",
      "['And', 'you', 'shake', 'it', 'all', 'about\\n']\n",
      "['You', 'do', 'the', 'Hokey-Pokey\\n']\n",
      "['And', 'you', 'turn', 'yourself', 'around\\n']\n",
      "[\"That's\", 'what', \"it's\", 'all', 'about']\n"
     ]
    }
   ],
   "source": [
    "f = open('hokeypokey.txt', 'r')  # opens a file to use.  The 'r' argument opens as read-only.  This is also the default.\n",
    "\n",
    "for line in f:\n",
    "    line_list = line.split(\" \")\n",
    "    print(line_list)\n",
    "    \n",
    "f.close()"
   ]
  },
  {
   "cell_type": "markdown",
   "metadata": {
    "id": "pdfTmMLoFSpT"
   },
   "source": [
    "## String trimming methods\n",
    "\n",
    "Notice when we print the lines in the list above you see some strange \"\\n\" characters.\n",
    "* These are newline characters:  you don't see them in the file when you view it, but they're there.\n",
    "\n",
    "Strings have methods to remove white space and special characters (\"\\t\" indicates a tab, for example).\n",
    "\n",
    "* `.rstrip()` removes white space and trailing characters from the right.\n",
    "* `.lstrip()` removes white space and trailing characters from the left.\n",
    "* `.strip()` removes white space and trailing characters from both sides.\n",
    "\n",
    "An argument inside any says to only strip certain characters.\n",
    "* `.rstrip('\\n')` removes newline characters only"
   ]
  },
  {
   "cell_type": "code",
   "execution_count": 6,
   "metadata": {
    "id": "e13efb4JFSpU",
    "tags": []
   },
   "outputs": [
    {
     "data": {
      "text/plain": [
       "'   abc'"
      ]
     },
     "execution_count": 6,
     "metadata": {},
     "output_type": "execute_result"
    },
    {
     "data": {
      "text/plain": [
       "'abc  \\t \\n'"
      ]
     },
     "execution_count": 6,
     "metadata": {},
     "output_type": "execute_result"
    },
    {
     "data": {
      "text/plain": [
       "'abc'"
      ]
     },
     "execution_count": 6,
     "metadata": {},
     "output_type": "execute_result"
    },
    {
     "data": {
      "text/plain": [
       "'   abc  \\t '"
      ]
     },
     "execution_count": 6,
     "metadata": {},
     "output_type": "execute_result"
    }
   ],
   "source": [
    "mystring = \"   abc  \\t \\n\"  # \\t is a tab character\n",
    "mystring.rstrip()\n",
    "mystring.lstrip()\n",
    "mystring.strip()\n",
    "mystring2 = mystring.rstrip(\"\\n\")\n",
    "mystring2"
   ]
  },
  {
   "cell_type": "markdown",
   "metadata": {
    "id": "nY8mX5C9FSpU",
    "tags": []
   },
   "source": [
    "### Problem 1\n",
    "Adjust the code below to strip the lines below of extra spaces and special characters before reading into a list."
   ]
  },
  {
   "cell_type": "code",
   "execution_count": 7,
   "metadata": {
    "id": "hmbi6x9JFSpU",
    "tags": []
   },
   "outputs": [
    {
     "name": "stdout",
     "output_type": "stream",
     "text": [
      "You put your right foot in\n",
      "You put your right foot out\n",
      "You put your right foot in\n",
      "And you shake it all about\n",
      "You do the Hokey-Pokey\n",
      "And you turn yourself around\n",
      "That's what it's all about\n"
     ]
    }
   ],
   "source": [
    "f = open('hokeypokey.txt', 'r')  # opens a file to use.  The 'r' argument opens as read-only.  This is also the default.\n",
    "\n",
    "for line in f:\n",
    "    line_list = line.split(\" \")\n",
    "    line_list = line.strip()\n",
    "    print(line_list)\n",
    "    \n",
    "f.close()"
   ]
  },
  {
   "cell_type": "markdown",
   "metadata": {
    "id": "qKeYL8WHFSpU",
    "tags": []
   },
   "source": [
    "### Problem 2\n",
    "\n",
    "Preview the file states.txt by double clicking on it in the File Explorer pane of Jupyter Lab.  Then write code to read in the file and store the data in a data structure that will let you look up the capital of a state by state name.  (You do not have to write code to look up capitals, though.)  You may want to refer to the exercises we did in the previous class to help with this."
   ]
  },
  {
   "cell_type": "code",
   "execution_count": 70,
   "metadata": {
    "id": "tyXiEJwpFSpU",
    "tags": []
   },
   "outputs": [
    {
     "data": {
      "text/plain": [
       "'Raleigh'"
      ]
     },
     "execution_count": 70,
     "metadata": {},
     "output_type": "execute_result"
    }
   ],
   "source": [
    "f = open('states.txt', 'r')\n",
    "\n",
    "states = {}\n",
    "\n",
    "for line in f:\n",
    "    line = line.rstrip()\n",
    "    state, capital = line.split(\",\")\n",
    "    states[state] = capital\n",
    "\n",
    "f.close()\n",
    "states['North Carolina']"
   ]
  },
  {
   "cell_type": "markdown",
   "metadata": {
    "id": "6k5m2BebFxU1",
    "tags": []
   },
   "source": [
    "## Getting data **into** complex data structures"
   ]
  },
  {
   "cell_type": "markdown",
   "metadata": {
    "id": "3Z6iLvLsFxU6",
    "jp-MarkdownHeadingCollapsed": true,
    "tags": []
   },
   "source": [
    "## Read data into more complex data structures...\n",
    "\n",
    "Double click on states2.txt to view.\n",
    "* List of states:  for each state we have the capital and the 2-letter abbreviation.\n",
    "\n",
    "To think about the right data structure for your information you can think about two things:\n",
    "* how you want to display the data\n",
    "* how you want to access the data."
   ]
  },
  {
   "cell_type": "markdown",
   "metadata": {
    "id": "2GdJG7PXFxU7"
   },
   "source": [
    "## Display state information\n",
    "### Alabama\n",
    "* AL\n",
    "* Montgomery\n",
    "\n",
    "### Alaska\n",
    "* AK\n",
    "* Juneau"
   ]
  },
  {
   "cell_type": "markdown",
   "metadata": {
    "id": "suKhSSIJFxU8",
    "jp-MarkdownHeadingCollapsed": true,
    "tags": []
   },
   "source": [
    "## Access state information\n",
    "\n",
    "Say you want to be able to enter a state name and access relevant information about that state."
   ]
  },
  {
   "cell_type": "markdown",
   "metadata": {
    "id": "X5vjeWVdFxU9"
   },
   "source": [
    "## Both ways point to nested dictionaries\n",
    "\n",
    "* If you display your data with headings, the headings are often naturally keys\n",
    "* If you want to lookup something based on some value, it's naturally a key\n",
    "* If you have more than one value per heading/lookup, then your value might naturally be another dictionary, or a list, or a combination...\n"
   ]
  },
  {
   "cell_type": "markdown",
   "metadata": {
    "id": "Kxf_lxNiFxU-",
    "tags": []
   },
   "source": [
    "### Problem 3\n",
    "Write code to read in the data into a dictionary called *states* where each state name is the key, and each value is a dictionary consisting of keys \"capital\" and \"abbrev\"."
   ]
  },
  {
   "cell_type": "code",
   "execution_count": 83,
   "metadata": {
    "id": "OKlE0J0hFxU_",
    "tags": []
   },
   "outputs": [
    {
     "data": {
      "text/plain": [
       "'Raleigh'"
      ]
     },
     "execution_count": 83,
     "metadata": {},
     "output_type": "execute_result"
    }
   ],
   "source": [
    "f = open('states2.txt', 'r')\n",
    "\n",
    "states = {}\n",
    "\n",
    "for line in f:\n",
    "    line = line.rstrip()\n",
    "    state, capital, abbrev = line.split(\",\")\n",
    "    states[state] = {'capital':capital , 'abbrev':abbrev}\n",
    "\n",
    "f.close()\n",
    "states['North Carolina']['capital']"
   ]
  },
  {
   "cell_type": "markdown",
   "metadata": {
    "id": "6ma1n-FoFxVA",
    "tags": []
   },
   "source": [
    "### Problem 4\n",
    "Now practice accessing elements from your dictionary.\n",
    "Write code to print\n",
    "1.  the abbreviation for Hawaii.\n",
    "2.  the capitals for all states\n",
    "3.  A sentence for each state that says \"The abbreviation for *state* is *abbrev*.\""
   ]
  },
  {
   "cell_type": "code",
   "execution_count": 97,
   "metadata": {
    "id": "3DRbFFk1FxVB",
    "tags": []
   },
   "outputs": [
    {
     "name": "stdout",
     "output_type": "stream",
     "text": [
      "HI\n",
      "Montgomery\n",
      "Juneau\n",
      "Phoenix\n",
      "Little Rock\n",
      "Sacramento\n",
      "Denver\n",
      "Hartford\n",
      "Dover\n",
      "Tallahassee\n",
      "Atlanta\n",
      "Honolulu\n",
      "Boise\n",
      "Springfield\n",
      "Indianapolis\n",
      "Des Moines\n",
      "Topeka\n",
      "Frankfort\n",
      "Baton Rouge\n",
      "Augusta\n",
      "Annapolis\n",
      "Boston\n",
      "Lansing\n",
      "St. Paul\n",
      "Jackson\n",
      "Jefferson City\n",
      "Helena\n",
      "Lincoln\n",
      "Carson City\n",
      "Concord\n",
      "Trenton\n",
      "Santa Fe\n",
      "Albany\n",
      "Raleigh\n",
      "Bismarck\n",
      "Columbus\n",
      "Oklahoma City\n",
      "Salem\n",
      "Harrisburg\n",
      "Providence\n",
      "Columbia\n",
      "Pierre\n",
      "Nashville\n",
      "Austin\n",
      "Salt Lake City\n",
      "Montpelier\n",
      "Richmond\n",
      "Olympia\n",
      "Charleston\n",
      "Madison\n",
      "Cheyenne\n",
      "The abbreviation for Alabama is AL\n",
      "The abbreviation for Alaska is AK\n",
      "The abbreviation for Arizona is AZ\n",
      "The abbreviation for Arkansas is AR\n",
      "The abbreviation for California is CA\n",
      "The abbreviation for Colorado is CO\n",
      "The abbreviation for Connecticut is CT\n",
      "The abbreviation for Delaware is DE\n",
      "The abbreviation for Florida is FL\n",
      "The abbreviation for Georgia is FA\n",
      "The abbreviation for Hawaii is HI\n",
      "The abbreviation for Idaho is ID\n",
      "The abbreviation for Illinois is IL\n",
      "The abbreviation for Indiana is IN\n",
      "The abbreviation for Iowa is IA\n",
      "The abbreviation for Kansas is KS\n",
      "The abbreviation for Kentucky is KY\n",
      "The abbreviation for Louisiana is LA\n",
      "The abbreviation for Maine is ME\n",
      "The abbreviation for Maryland is MD\n",
      "The abbreviation for Massachusetts is MA\n",
      "The abbreviation for Michigan is MI\n",
      "The abbreviation for Minnesota is MN\n",
      "The abbreviation for Mississippi is MS\n",
      "The abbreviation for Missouri is MO\n",
      "The abbreviation for Montana is MT\n",
      "The abbreviation for Nebraska is NE\n",
      "The abbreviation for Nevada is NV\n",
      "The abbreviation for New Hampshire is NH\n",
      "The abbreviation for New Jersey is NJ\n",
      "The abbreviation for New Mexico is NM\n",
      "The abbreviation for New York is NY\n",
      "The abbreviation for North Carolina is NC\n",
      "The abbreviation for North Dakota is ND\n",
      "The abbreviation for Ohio is OH\n",
      "The abbreviation for Oklahoma is OK\n",
      "The abbreviation for Oregon is OR\n",
      "The abbreviation for Pennsylvania is PA\n",
      "The abbreviation for Rhode Island is RI\n",
      "The abbreviation for South Carolina is SC\n",
      "The abbreviation for South Dakota is SD\n",
      "The abbreviation for Tennessee is TN\n",
      "The abbreviation for Texas is TX\n",
      "The abbreviation for Utah is UT\n",
      "The abbreviation for Vermont is VT\n",
      "The abbreviation for Virginia is VA\n",
      "The abbreviation for Washington is WA\n",
      "The abbreviation for West Virginia is WV\n",
      "The abbreviation for Wisconsin is WI\n",
      "The abbreviation for Wyoming is WY\n"
     ]
    }
   ],
   "source": [
    "print(states['Hawaii']['abbrev'])\n",
    "\n",
    "for state in states:\n",
    "    print(states[state]['capital'])\n",
    "    \n",
    "for state in states:\n",
    "    print(f\"The abbreviation for {state} is {states[state]['abbrev']}\")"
   ]
  },
  {
   "cell_type": "markdown",
   "metadata": {
    "id": "_8TjZ0IcFxVC"
   },
   "source": [
    "## Store multiple pieces of information AND keep track of counts.\n",
    "\n",
    "You might use a dictionary to keep track of multiple pieces of information including running counts or sums."
   ]
  },
  {
   "cell_type": "markdown",
   "metadata": {
    "id": "w28gNQSzFxVC",
    "tags": []
   },
   "source": [
    "### Problem 5\n",
    "\n",
    "Let's now look at a related data set, president_states.txt.  We now have a list of states, their capitals, abbreviations.  But not all 50 states are represented; instead there is one line per U.S. president.  In addition to the president's name, the state, state capital, and state abbreviation are all listed.\n",
    "\n",
    "Your job now is to update the previous data structure such that the sub-dictionary that previously stored capital and abbreviation **also keeps track** of how many presidents have come from that state by adding a key called 'numpres' and the associated value.\n",
    "\n",
    "Keep in mind that here you will read in info for a state more than once:  Virginia and Massachusetts, for example, were the birthplace of several presidents.  \n",
    "\n",
    "When you're done making your dictionary use the keys and values to print a message saying that \"The capital of \\<state\\> is \\<capital\\> and it has had \\<numpres\\> presidents.\"\n",
    "\n",
    "**Hint:**. You will need the skills from the previous class where we used a dictionary to count votes as well as from the previous exercise to do this."
   ]
  },
  {
   "cell_type": "code",
   "execution_count": 23,
   "metadata": {
    "id": "OfEz2cR7FxVC",
    "tags": []
   },
   "outputs": [
    {
     "name": "stdout",
     "output_type": "stream",
     "text": [
      "The capital of Virginia is Richmond and it has had 8 presidents\n",
      "The capital of Massachusetts is Boston and it has had 4 presidents\n",
      "The capital of South Carolina is Columbia and it has had 1 presidents\n",
      "The capital of New York is Albany and it has had 5 presidents\n",
      "The capital of Pennsylvania is Harrisburg and it has had 2 presidents\n",
      "The capital of North Carolina is Raleigh and it has had 2 presidents\n",
      "The capital of New Hampshire is Concord and it has had 1 presidents\n",
      "The capital of Kentucky is Frankfort and it has had 1 presidents\n",
      "The capital of Ohio is Columbus and it has had 7 presidents\n",
      "The capital of Vermont is Montpelier and it has had 2 presidents\n",
      "The capital of New Jersey is Trenton and it has had 1 presidents\n",
      "The capital of Iowa is Des Moines and it has had 1 presidents\n",
      "The capital of Missouri is Jefferson City and it has had 1 presidents\n",
      "The capital of Texas is Austin and it has had 2 presidents\n",
      "The capital of Illinois is Springfield and it has had 1 presidents\n",
      "The capital of California is Sacramento and it has had 1 presidents\n",
      "The capital of Nebraska is Lincoln and it has had 1 presidents\n",
      "The capital of Georgia is Atlanta and it has had 1 presidents\n",
      "The capital of Connecticut is Hartford and it has had 1 presidents\n",
      "The capital of Arkansas is Little Rock and it has had 1 presidents\n",
      "The capital of Hawaii is Honolulu and it has had 1 presidents\n"
     ]
    }
   ],
   "source": [
    "f = open('president_states.txt', 'r')\n",
    "\n",
    "states = {}\n",
    "\n",
    "for line in f:\n",
    "    line = line.rstrip()\n",
    "    state, capital, abbrev, numpres = line.split(\",\")\n",
    "    \n",
    "    if state not in states:\n",
    "        states[state] = {'capital':capital , 'abbrev':abbrev, 'numpres': 1}\n",
    "    else:\n",
    "        states[state]['numpres'] = states[state]['numpres'] + 1\n",
    "\n",
    "f.close()\n",
    "for state in states:\n",
    "    print(f\"The capital of {state} is {states[state]['capital']} and it has had {states[state]['numpres']} presidents\")\n"
   ]
  },
  {
   "cell_type": "markdown",
   "metadata": {
    "id": "6mFOcAmuFxVE",
    "tags": []
   },
   "source": [
    "## Optional practice problem\n",
    "\n",
    "The problems above should be good preparation for PS 07, but if you'd like to practice with some variations on a theme, then check out the problem below.  It is not as challenging as the vote tallying problem.\n",
    "\n",
    "Read in students1.txt, a file where each line represents a course taken by a student.  The first field is the ID, then the course ID, and last is the grade in the class.  Read the data into a data structure that will let you access each student's course history and look up the grade by course.  You may assume that no student will take the same class twice.  It may help you to plan out the data structure on a piece of scratch paper before you start coding."
   ]
  },
  {
   "cell_type": "code",
   "execution_count": null,
   "metadata": {
    "id": "6mNWM8VTFxVF"
   },
   "outputs": [],
   "source": []
  }
 ],
 "metadata": {
  "colab": {
   "provenance": []
  },
  "kernelspec": {
   "display_name": "Python 3 (ipykernel)",
   "language": "python",
   "name": "python3"
  },
  "language_info": {
   "codemirror_mode": {
    "name": "ipython",
    "version": 3
   },
   "file_extension": ".py",
   "mimetype": "text/x-python",
   "name": "python",
   "nbconvert_exporter": "python",
   "pygments_lexer": "ipython3",
   "version": "3.10.8"
  }
 },
 "nbformat": 4,
 "nbformat_minor": 4
}
