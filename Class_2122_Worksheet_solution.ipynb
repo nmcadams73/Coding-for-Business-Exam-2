{
 "cells": [
  {
   "cell_type": "markdown",
   "id": "502f5f84-b775-4d71-b631-2ad712c4fa0d",
   "metadata": {},
   "source": [
    "## APIs & JSON Exercise\n"
   ]
  },
  {
   "cell_type": "code",
   "execution_count": 1,
   "id": "74e55cb8-d656-40a4-abd2-526d9736122f",
   "metadata": {
    "slideshow": {
     "slide_type": "fragment"
    },
    "tags": []
   },
   "outputs": [],
   "source": [
    "#Print multiple outputs from a cell\n",
    "get_ipython().ast_node_interactivity = 'all'"
   ]
  },
  {
   "cell_type": "markdown",
   "id": "eabd4d07-96d3-4f03-a540-2ff405291dae",
   "metadata": {
    "tags": []
   },
   "source": [
    "### Part 1 - Creating the URL\n",
    "\n",
    "Before getting to the Python code that connects your program to a web-based API (**A**pplication **P**rogramming **I**nterface), it's worth spending a bit of time getting familiar with the URL which will be used to access the interface.\n",
    "\n",
    "Here's an example of a URL that connects with the API at worldclockapi.com. Click on the following link and see what you get: http://worldclockapi.com/api/json/est/now\n",
    "\n",
    "*If that URL doesn't work, try this one: https://v2.jokeapi.dev/joke/Any?safe-mode.  (I have not vetted these jokes...sorry.)*"
   ]
  },
  {
   "cell_type": "markdown",
   "id": "cc5fbe75-2a42-49bd-ae3f-bb50e88364f6",
   "metadata": {},
   "source": [
    "To untrained eyes, this may look like a bunch of gibberish, but for our BZAN2021 class, this should resemble something familiar..."
   ]
  },
  {
   "cell_type": "markdown",
   "id": "edb763b3-7e12-4f99-b561-e03349a6d39d",
   "metadata": {
    "tags": []
   },
   "source": [
    "# ...like maybe a DICTIONARY!!!"
   ]
  },
  {
   "cell_type": "markdown",
   "id": "6d6e2779-3689-4491-803c-5eebab9fbfec",
   "metadata": {},
   "source": [
    "It's actually not that...at least not yet. Right now, what's being displayed is a JSON (**J**ava**S**cript **O**bject **N**otation) object. But, we can easily convert it into a Python object like the ones we've been working with. (More on that later...)\n",
    "\n",
    "#### Breaking down the URL\n",
    "Looking at the URL, we can see the website (`http://worldclockapi.com`), the path to get to the data for the Eastern Standard Time zone (`/api/json/est`) and the parameter (`now`).\n",
    "\n",
    "Let's look at a more complex URL...this time from the Open Movie Database (omdbapi.com). Click on the following link to see what you get: https://www.omdbapi.com?s=Jaws&apikey=18d02f0a"
   ]
  },
  {
   "cell_type": "markdown",
   "id": "20c6971e-c7f2-4a2e-902f-d5a94a837715",
   "metadata": {},
   "source": [
    "What you're seeing are the first 10 film results using the search term, \"Jaws.\" (There are actually 108 total results -- as you can see near the end of the JSON string -- but omdbapi.com only displays the first 10.)\n",
    "\n",
    "Again, we can break down the URL into the following components:\n",
    "* site = `https://www.omdbapi.com`\n",
    "* parameters:\n",
    "     - `s = Jaws` ('s' is the search parameter)\n",
    "     - `apikey = 18d02f0a` (the 'apikey' is a unique identifier you are assigned when you register at omdbapi.com)\n",
    "     \n",
    "Notice that a question mark ('?') connects the site domain to the parameters and, when there are multiple parameters, each one is connected to the other with an ampersand ('&'). Also notice that there are no spaces in the URL...typically, if a space is needed in the parameter value, you'd use '%20' to represent it."
   ]
  },
  {
   "cell_type": "markdown",
   "id": "ddb0dd81-2276-4f47-993a-5c70b4af3702",
   "metadata": {},
   "source": [
    "#### Practice\n",
    "\n",
    "Let's try out a few of these using the omdbapi.com website. See if you can create the URL for the following queries and try it out in a browser window to see if it works:\n",
    "\n",
    "* site = `https://www.omdbapi.com`\n",
    "* 1st set of parameters:\n",
    "     - `t = Argo` (parameter for a specific title)\n",
    "     - `apikey = 18d02f0a`\n",
    "     \n",
    "* 2nd set of parameters:\n",
    "     - `s = Godfather`\n",
    "     - `y = 2018` (parameter for year released)\n",
    "     - `type = series` (parameter for movie, series, or episode)\n",
    "     - `apikey = 18d02f0a`\n",
    "     \n",
    "   \n"
   ]
  },
  {
   "cell_type": "markdown",
   "id": "f74c750e-e15d-4686-a1f1-92e45e4faf44",
   "metadata": {},
   "source": [
    "How do you know what a particular API's paths and parameters are? You need to go to the website and read the documentation. You can see the other parameters for the Open Movie Database by going to this link: www.omdbapi.com."
   ]
  },
  {
   "cell_type": "markdown",
   "id": "79670f0a-4b3b-4137-8f5b-26287d020ca0",
   "metadata": {},
   "source": [
    "### Part 2 - Communicating with the URL\n",
    "\n",
    "Up until now, we've just been pasting URLs into browser windows to see what results we get. But the whole point of APIs is the Programming part...computers talking to computers. How do we do this in Python? \n",
    "\n",
    "First we need to load the `requests` package:"
   ]
  },
  {
   "cell_type": "code",
   "execution_count": 2,
   "id": "8bb7fa29-1305-4dbb-85b9-42cafce63b6d",
   "metadata": {},
   "outputs": [],
   "source": [
    "import requests"
   ]
  },
  {
   "cell_type": "markdown",
   "id": "fa6e5df3-e3b8-40ec-a3bb-dd5d4a8c9008",
   "metadata": {},
   "source": [
    "Now that we've loaded in the package, we need to construct the URL which our computer will use to communicate and retrieve the information we're looking for. For this exercise, let's retrieve the movie information for the film, *Argo*, using the apikey I provided above. Fill in the blanks below and then run the code block:"
   ]
  },
  {
   "cell_type": "code",
   "execution_count": 3,
   "id": "ee534421-2a3e-47a5-a24a-1b167cab41ad",
   "metadata": {},
   "outputs": [],
   "source": [
    "site = 'https://www.omdbapi.com'\n",
    "apikey = '18d02f0a'\n",
    "title = 'Argo'\n",
    "parameters = {'t': title, 'apikey': apikey}"
   ]
  },
  {
   "cell_type": "markdown",
   "id": "cd920a6b-7e65-483b-9d74-4bbf193b12e8",
   "metadata": {},
   "source": [
    "Whether you knew it or not, our web browsers have all along been using http (hypertext transfer protocol) to communicate with the API. The `get()` function from the `requests` package can combine our site and parameters together into a useable format to communicate with the API...you only need to give it the site path and parameter as follows:"
   ]
  },
  {
   "cell_type": "code",
   "execution_count": 4,
   "id": "b1cdf9c9-e331-4cc3-b9d0-f272457c0b54",
   "metadata": {},
   "outputs": [
    {
     "data": {
      "text/plain": [
       "'https://www.omdbapi.com/?t=Argo&apikey=18d02f0a'"
      ]
     },
     "execution_count": 4,
     "metadata": {},
     "output_type": "execute_result"
    }
   ],
   "source": [
    "response_object = requests.get(site, parameters)\n",
    "response_object.url #this just displays the URL that was created"
   ]
  },
  {
   "cell_type": "markdown",
   "id": "399a0ffe-a13d-45ac-a617-2c9636bb8627",
   "metadata": {},
   "source": [
    "Now try printing the response_object...what do you get?"
   ]
  },
  {
   "cell_type": "code",
   "execution_count": 5,
   "id": "b81d8292-6387-4130-8ed2-d0f9bf559cf5",
   "metadata": {},
   "outputs": [
    {
     "name": "stdout",
     "output_type": "stream",
     "text": [
      "<Response [200]>\n"
     ]
    }
   ],
   "source": [
    "print(response_object)"
   ]
  },
  {
   "cell_type": "markdown",
   "id": "7d728870-5fc6-47a6-9a0c-01e6c8fea8f6",
   "metadata": {},
   "source": [
    "Not very useful. But if you look at the `.text` property for the response object, you can see what's inside of it:"
   ]
  },
  {
   "cell_type": "code",
   "execution_count": 6,
   "id": "8a2ab9a8-57e1-47e0-bed7-9f38b397c775",
   "metadata": {},
   "outputs": [
    {
     "data": {
      "text/plain": [
       "'{\"Title\":\"Argo\",\"Year\":\"2012\",\"Rated\":\"R\",\"Released\":\"12 Oct 2012\",\"Runtime\":\"120 min\",\"Genre\":\"Biography, Drama, Thriller\",\"Director\":\"Ben Affleck\",\"Writer\":\"Chris Terrio, Tony Mendez, Joshuah Bearman\",\"Actors\":\"Ben Affleck, Bryan Cranston, John Goodman\",\"Plot\":\"Acting under the cover of a Hollywood producer scouting a location for a science fiction film, a CIA agent launches a dangerous operation to rescue six Americans in Tehran during the U.S. hostage crisis in Iran in 1979.\",\"Language\":\"English, Persian, German, Arabic\",\"Country\":\"United Kingdom, United States\",\"Awards\":\"Won 3 Oscars. 95 wins & 156 nominations total\",\"Poster\":\"https://m.media-amazon.com/images/M/MV5BNzljNjY3MDYtYzc0Ni00YjU0LWIyNDUtNTE0ZDRiMGExMjZlXkEyXkFqcGdeQXVyMTMxODk2OTU@._V1_SX300.jpg\",\"Ratings\":[{\"Source\":\"Internet Movie Database\",\"Value\":\"7.7/10\"},{\"Source\":\"Rotten Tomatoes\",\"Value\":\"96%\"},{\"Source\":\"Metacritic\",\"Value\":\"86/100\"}],\"Metascore\":\"86\",\"imdbRating\":\"7.7\",\"imdbVotes\":\"620,061\",\"imdbID\":\"tt1024648\",\"Type\":\"movie\",\"DVD\":\"19 Feb 2013\",\"BoxOffice\":\"$136,025,503\",\"Production\":\"N/A\",\"Website\":\"N/A\",\"Response\":\"True\"}'"
      ]
     },
     "execution_count": 6,
     "metadata": {},
     "output_type": "execute_result"
    }
   ],
   "source": [
    "response_as_string = response_object.text\n",
    "response_as_string"
   ]
  },
  {
   "cell_type": "markdown",
   "id": "44e88af1-033a-4a56-af5e-09c01bc0c0a4",
   "metadata": {},
   "source": [
    "*Note: both `.url` and `.text` are properties of the response object, not methods or functions. This is why there are no ()'s in those commands.*"
   ]
  },
  {
   "cell_type": "markdown",
   "id": "4ac341ef-d19a-4743-abca-46e5ebe007ce",
   "metadata": {},
   "source": [
    "### Part 3 - Converting JSON to Python\n",
    "\n",
    "We're almost there! But the output above is still not technically a Python dictionary. Although it may look like one, we can't yet do dictionary things with it. Try running the following code block:"
   ]
  },
  {
   "cell_type": "code",
   "execution_count": 7,
   "id": "da336a98-a3d8-4bce-8cba-a8570775b965",
   "metadata": {},
   "outputs": [
    {
     "ename": "TypeError",
     "evalue": "string indices must be integers",
     "output_type": "error",
     "traceback": [
      "\u001b[0;31m---------------------------------------------------------------------------\u001b[0m",
      "\u001b[0;31mTypeError\u001b[0m                                 Traceback (most recent call last)",
      "Cell \u001b[0;32mIn[7], line 1\u001b[0m\n\u001b[0;32m----> 1\u001b[0m \u001b[43mresponse_as_string\u001b[49m\u001b[43m[\u001b[49m\u001b[38;5;124;43m'\u001b[39;49m\u001b[38;5;124;43mYear\u001b[39;49m\u001b[38;5;124;43m'\u001b[39;49m\u001b[43m]\u001b[49m\n",
      "\u001b[0;31mTypeError\u001b[0m: string indices must be integers"
     ]
    }
   ],
   "source": [
    "response_as_string['Year']"
   ]
  },
  {
   "cell_type": "markdown",
   "id": "cd97cb78-2bb0-474a-b80b-3e65e3676686",
   "metadata": {},
   "source": [
    "Let's use the `.json()` method to convert the response object (which is currently in JSON format) into the Python object it most resembles...sometimes that's a dictionary and sometimes that's a list. (It all depends on what the API gives us.)\n",
    "\n",
    "Run the next code block to do the conversion and then to print the data type of the resulting Python object:"
   ]
  },
  {
   "cell_type": "code",
   "execution_count": 8,
   "id": "c6577b0d-5b0e-459d-a4bd-8b308726b508",
   "metadata": {},
   "outputs": [
    {
     "name": "stdout",
     "output_type": "stream",
     "text": [
      "The data type is: <class 'dict'>\n",
      "And the API response now looks like this:\n",
      "{'Title': 'Argo', 'Year': '2012', 'Rated': 'R', 'Released': '12 Oct 2012', 'Runtime': '120 min', 'Genre': 'Biography, Drama, Thriller', 'Director': 'Ben Affleck', 'Writer': 'Chris Terrio, Tony Mendez, Joshuah Bearman', 'Actors': 'Ben Affleck, Bryan Cranston, John Goodman', 'Plot': 'Acting under the cover of a Hollywood producer scouting a location for a science fiction film, a CIA agent launches a dangerous operation to rescue six Americans in Tehran during the U.S. hostage crisis in Iran in 1979.', 'Language': 'English, Persian, German, Arabic', 'Country': 'United Kingdom, United States', 'Awards': 'Won 3 Oscars. 95 wins & 156 nominations total', 'Poster': 'https://m.media-amazon.com/images/M/MV5BNzljNjY3MDYtYzc0Ni00YjU0LWIyNDUtNTE0ZDRiMGExMjZlXkEyXkFqcGdeQXVyMTMxODk2OTU@._V1_SX300.jpg', 'Ratings': [{'Source': 'Internet Movie Database', 'Value': '7.7/10'}, {'Source': 'Rotten Tomatoes', 'Value': '96%'}, {'Source': 'Metacritic', 'Value': '86/100'}], 'Metascore': '86', 'imdbRating': '7.7', 'imdbVotes': '620,061', 'imdbID': 'tt1024648', 'Type': 'movie', 'DVD': '19 Feb 2013', 'BoxOffice': '$136,025,503', 'Production': 'N/A', 'Website': 'N/A', 'Response': 'True'}\n"
     ]
    },
    {
     "data": {
      "text/plain": [
       "'2012'"
      ]
     },
     "execution_count": 8,
     "metadata": {},
     "output_type": "execute_result"
    }
   ],
   "source": [
    "response_as_dict = response_object.json()\n",
    "print('The data type is:', type(response_as_dict))\n",
    "print('And the API response now looks like this:')\n",
    "print(response_as_dict)\n",
    "\n",
    "# We can now index into the dictionary as expected:\n",
    "response_as_dict['Year']"
   ]
  },
  {
   "cell_type": "markdown",
   "id": "765140a0-fab3-48d8-bcc5-2b9ed8779664",
   "metadata": {},
   "source": [
    "Finally, we've got our answer in a format we can work with...it's a dictionary with a set of keys and values. Now, in the next code block, use a 'for' loop to display the key-value pairs in an easier to read format:"
   ]
  },
  {
   "cell_type": "code",
   "execution_count": 9,
   "id": "58e6b8b2-a931-40e8-bdca-67a8d7516f08",
   "metadata": {},
   "outputs": [
    {
     "name": "stdout",
     "output_type": "stream",
     "text": [
      "Title : Argo \n",
      "\n",
      "Year : 2012 \n",
      "\n",
      "Rated : R \n",
      "\n",
      "Released : 12 Oct 2012 \n",
      "\n",
      "Runtime : 120 min \n",
      "\n",
      "Genre : Biography, Drama, Thriller \n",
      "\n",
      "Director : Ben Affleck \n",
      "\n",
      "Writer : Chris Terrio, Tony Mendez, Joshuah Bearman \n",
      "\n",
      "Actors : Ben Affleck, Bryan Cranston, John Goodman \n",
      "\n",
      "Plot : Acting under the cover of a Hollywood producer scouting a location for a science fiction film, a CIA agent launches a dangerous operation to rescue six Americans in Tehran during the U.S. hostage crisis in Iran in 1979. \n",
      "\n",
      "Language : English, Persian, German, Arabic \n",
      "\n",
      "Country : United Kingdom, United States \n",
      "\n",
      "Awards : Won 3 Oscars. 95 wins & 156 nominations total \n",
      "\n",
      "Poster : https://m.media-amazon.com/images/M/MV5BNzljNjY3MDYtYzc0Ni00YjU0LWIyNDUtNTE0ZDRiMGExMjZlXkEyXkFqcGdeQXVyMTMxODk2OTU@._V1_SX300.jpg \n",
      "\n",
      "Ratings : [{'Source': 'Internet Movie Database', 'Value': '7.7/10'}, {'Source': 'Rotten Tomatoes', 'Value': '96%'}, {'Source': 'Metacritic', 'Value': '86/100'}] \n",
      "\n",
      "Metascore : 86 \n",
      "\n",
      "imdbRating : 7.7 \n",
      "\n",
      "imdbVotes : 620,061 \n",
      "\n",
      "imdbID : tt1024648 \n",
      "\n",
      "Type : movie \n",
      "\n",
      "DVD : 19 Feb 2013 \n",
      "\n",
      "BoxOffice : $136,025,503 \n",
      "\n",
      "Production : N/A \n",
      "\n",
      "Website : N/A \n",
      "\n",
      "Response : True \n",
      "\n"
     ]
    }
   ],
   "source": [
    "for key, value in response_as_dict.items():\n",
    "    print(key, \":\", value, '\\n') \n",
    "    #The '\\n' is optional...I'm just forcing a blank line between each key-value pair"
   ]
  },
  {
   "cell_type": "markdown",
   "id": "6ef3a666-3fe4-4817-adc3-89a63ad0c22d",
   "metadata": {},
   "source": [
    "### Part 4 - Putting it all together\n",
    "\n",
    "Now it's your turn to try a different query with the OMDB. In the code block below, write a program to print the search results for any films containing the word 'Sharknado' that were released in the year 2015. What should print out are just the film titles. \n",
    "\n",
    "*(Hint: you may want to first type the URL you want to construct in a browser window to see what the resulting output will look like.)*"
   ]
  },
  {
   "cell_type": "code",
   "execution_count": null,
   "id": "847df93c-ec73-4fe2-afe8-35b4fc3f9ce8",
   "metadata": {},
   "outputs": [],
   "source": [
    "import requests\n",
    "\n",
    "site = \"https://www.omdbapi.com\"\n",
    "search = \"Sharknado\"\n",
    "year = \"2015\"\n",
    "apikey = \"18d02f0a\"\n",
    "parameters = {\"s\": search, \"y\": year, \"apikey\": apikey}\n",
    "\n",
    "r = requests.get(site, parameters)\n",
    "\n",
    "r_dict = r.json()\n",
    "\n",
    "for film in r_dict[\"Search\"]:\n",
    "    print(film[\"Title\"])"
   ]
  },
  {
   "cell_type": "code",
   "execution_count": null,
   "id": "dbbdf462-1fb0-400c-b4d6-3c016da7c90a",
   "metadata": {},
   "outputs": [],
   "source": [
    "#To see the keys in the r_dict dictionary:\n",
    "\n",
    "for key in r_dict:\n",
    "    print(key)"
   ]
  },
  {
   "cell_type": "markdown",
   "id": "025654b8-6ce6-4c0c-9248-9d915f1da18f",
   "metadata": {},
   "source": [
    "Finally, create a function called, *omdbresults*, that takes one argument, a string containing a search term. The function should then return 1 of 3 things:\n",
    "\n",
    "* A string that states, 'There are xx films with the search term: yyyy'\n",
    "* A string that states, 'Too many results.' if the search returns an error with that message\n",
    "* A string that states, 'Movie not found!' if the search returns an error with that message\n",
    "\n",
    "You can try the following 3 search terms to test your code:\n",
    "\n",
    "```\n",
    "omdbresults('ending') returns 'There are 297 films with the search term: ending'\n",
    "omdbresults('pi') returns 'Too many results.'\n",
    "omdbresults('foobar') returns 'Movie not found!'\n",
    "```"
   ]
  },
  {
   "cell_type": "code",
   "execution_count": null,
   "id": "4edf3525-4527-491d-b2da-39ee77d9c193",
   "metadata": {},
   "outputs": [],
   "source": [
    "def omdbresults(searchterm):\n",
    "    import requests\n",
    "    \n",
    "    site = 'http://www.omdbapi.com'\n",
    "    apikey = '18d02f0a'\n",
    "    \n",
    "    parameters = {'s': searchterm, 'apikey': apikey}\n",
    "    \n",
    "    r = requests.get(site, parameters)\n",
    "    \n",
    "    r_dict = r.json()\n",
    "    \n",
    "    if 'totalResults' in r_dict:\n",
    "        return f'There are {r_dict[\"totalResults\"]} films with the search term: {searchterm}'\n",
    "    else:\n",
    "        return r_dict['Error']\n",
    "        # If you run the query that gets an error, an 'Error' key is in the resulting dictionary"
   ]
  },
  {
   "cell_type": "code",
   "execution_count": null,
   "id": "90a28c85-1433-4e84-a737-f07d74e88efc",
   "metadata": {},
   "outputs": [],
   "source": [
    "omdbresults('ending')\n",
    "omdbresults('pi')\n",
    "omdbresults('foobar')"
   ]
  },
  {
   "cell_type": "markdown",
   "id": "081bca0c-1c6b-4336-8354-06920f1a7d9e",
   "metadata": {
    "slideshow": {
     "slide_type": "slide"
    },
    "tags": []
   },
   "source": [
    "### Query string formatting is the Wild, Wild West\n",
    "\n",
    "There is very little consistency the names of parameters.\n",
    "\n",
    "Regarding an API key:  sometimes the parameter is `apikey`, sometimes it's `token`, and sometimes it's one of a thousand other things.  You have to read the documentation and sometimes even Google search to see if other people have given hints on how to use the API.\n",
    "\n",
    "Sometimes the search parameter is called `s`; sometimes it's `search`; sometimes it's `q` or something else entirely."
   ]
  },
  {
   "cell_type": "markdown",
   "id": "f7d4757f-e4a2-477e-80d5-42bbb73f3110",
   "metadata": {
    "slideshow": {
     "slide_type": "slide"
    },
    "tags": []
   },
   "source": [
    "### Practice Problem 1\n",
    "\n",
    "Now you try it--code a search for the weather in a city.  \n",
    "1. Prompt the user to enter a city name (they should not enter the country name)\n",
    "1. Use that information to formulate the query string.\n",
    "1. Get the data from the API and save it as a response object.\n",
    "1. Convert the response object to a Python data structure, and print that data structure.\n",
    "1. Print the high (max) temperature from the main weather station for that city.\n",
    "\n",
    "To save you from having to read the API documentation *this time*, here is an example using Brisbane, Australia.  (For this example we will leave off the country code.)\n",
    "http://api.openweathermap.org/data/2.5/weather?q=brisbane&appid=72affbf255c06c1f17a45ac3e3b8f353.  You do not need to click on the URL, but instead look at the query portion to see the names of the parameters."
   ]
  },
  {
   "cell_type": "markdown",
   "id": "4325520e-dd23-48c1-9bcc-02e48d1f4070",
   "metadata": {
    "slideshow": {
     "slide_type": "slide"
    },
    "tags": []
   },
   "source": [
    "The basics you need:\n",
    "* site:  http://api.openweathermap.org/data/2.5/weather\n",
    "* appid (term for api key in this site):  72affbf255c06c1f17a45ac3e3b8f353\n",
    "* the site https://codebeautify.org/python-formatter-beautifier lets you enter ugly Python data structures on the right side, press the Format button, and then it will show you your data structure in a way that makes it easier to drill down into the elements.\n",
    "\n",
    "**NOTE: The max temperature is given on the Kelvin temperature scale. To convert to Fahrenheit, you can use this formula: (K − 273.15) × 9/5 + 32 ... where \"K\" is the temperature in degrees Kelvin**\n",
    "   "
   ]
  },
  {
   "cell_type": "code",
   "execution_count": null,
   "id": "cc4f9400-211f-49d6-ad85-bd202007605c",
   "metadata": {
    "slideshow": {
     "slide_type": "slide"
    },
    "tags": []
   },
   "outputs": [],
   "source": [
    "import requests\n",
    "\n",
    "search = input(\"Enter a city to see the high temperature for that city: \")\n",
    "\n",
    "site = \"http://api.openweathermap.org/data/2.5/weather\"\n",
    "city = search\n",
    "appid = \"72affbf255c06c1f17a45ac3e3b8f353\"\n",
    "parameters = {\"q\": city, \"appid\": appid}\n",
    "\n",
    "r = requests.get(site, parameters)\n",
    "r_dict = r.json()\n",
    "\n",
    "max_temp = r_dict[\"main\"][\"temp_max\"]\n",
    "temp_fahr = (max_temp - 273.15)*9/5 + 32\n",
    "\n",
    "print(f\"The max temp for {search} is {temp_fahr}\")\n"
   ]
  },
  {
   "cell_type": "markdown",
   "id": "3406d8fb-b458-4a70-8096-f2ce918f4be5",
   "metadata": {
    "slideshow": {
     "slide_type": "slide"
    },
    "tags": []
   },
   "source": [
    "### Practice Problem 2\n",
    "\n",
    "Now try one that requires you to look at the documentation for an API.  Write some code that generates random trivia questions and their answers.\n",
    "1.  Go to https://opentdb.com/api_config.php\n",
    "2.  Read the documentation\n",
    "    * if you click on the black bar \"API Documentation\" you will get instructions\n",
    "    * if you use their \"API Helper\" below that you will get some examples.\n",
    "    \n",
    "Write code that lets the user choose the question difficulty (easy, medium, or hard) and the question type (multiple choice or T/F).  Return only one question and don't change the defaults for the other options.  At first just return the entire dictionary with the response.  **Note:  look at the parameter values in sample URLs that you generate using the API Helper in the documentation, and be sure to prompt the user to enter exactly the value you can use.**"
   ]
  },
  {
   "cell_type": "code",
   "execution_count": null,
   "id": "55892e6d-617b-4524-bb18-ac68afad609b",
   "metadata": {},
   "outputs": [],
   "source": [
    "import requests\n",
    "\n",
    "numqs = 1\n",
    "diff = input(\"Choose a question difficulty (easy, medium, or hard): \")\n",
    "qtype = input(\"Choose a question type (multiple or boolean): \")\n",
    "\n",
    "site = \"https://opentdb.com/api.php\"\n",
    "parameters = {\"difficulty\": diff, \"type\": qtype, \"amount\": numqs}\n",
    "\n",
    "r = requests.get(site, parameters)\n",
    "r_dict = r.json()\n",
    "r_dict"
   ]
  },
  {
   "cell_type": "markdown",
   "id": "5c874e91-1c6a-4805-a011-2218ed006c7d",
   "metadata": {},
   "source": [
    "*If you finish the part above...*\n",
    "Then use the values in the dictionary to print the question on one line, and then each possible answer (both correct and incorrect) on subsequent lines (as if you're printing a quiz).  The order in which you print correct and incorrect questions doesn't matter.\n",
    "\n",
    "* Your question and/or answers may have strange html escape characters. To get them to display properly, you can `import html` and then, when printing, place the question and/or answers within the `html.unescape()` function\n",
    "* If you are fired up about it you could put the correct and incorrect answers into a list and then use `random.shuffle()` from the *random* module to randomly reorder the questions.  Google \"python random.shuffle\" to learn more.)"
   ]
  },
  {
   "cell_type": "code",
   "execution_count": null,
   "id": "d8faed71-f6d9-4581-9b0a-8e49d98cdea5",
   "metadata": {},
   "outputs": [],
   "source": [
    "import html\n",
    "result = r_dict[\"results\"][0]\n",
    "print(html.unescape(result[\"question\"]))\n",
    "print(\"  \", html.unescape(result[\"correct_answer\"]))\n",
    "for answers in result[\"incorrect_answers\"]:\n",
    "    print(\"  \", html.unescape(answers))"
   ]
  },
  {
   "cell_type": "code",
   "execution_count": null,
   "id": "2d314b0b-043e-47e5-82e6-e997203d539e",
   "metadata": {
    "slideshow": {
     "slide_type": "slide"
    },
    "tags": []
   },
   "outputs": [],
   "source": [
    "# solution with answers shuffled\n",
    "import random\n",
    "\n",
    "# Put answers to multiple choice in random list but keep T/F ones where True always comes first\n",
    "if qtype == \"multiple\":\n",
    "    answers = [result['correct_answer']] + result['incorrect_answers'] # get answers in one list\n",
    "    random.shuffle(answers) # alters the list in-place, so the list is changed without an assignment statement\n",
    "else:\n",
    "    answers = [\"True\", \"False\"]\n",
    "\n",
    "# print the question and answers\n",
    "print(f\"{html.unescape(result['question'])}\")\n",
    "for element in answers:\n",
    "      print(f\"\\t{html.unescape(element)}\")"
   ]
  }
 ],
 "metadata": {
  "kernelspec": {
   "display_name": "Python 3 (ipykernel)",
   "language": "python",
   "name": "python3"
  },
  "language_info": {
   "codemirror_mode": {
    "name": "ipython",
    "version": 3
   },
   "file_extension": ".py",
   "mimetype": "text/x-python",
   "name": "python",
   "nbconvert_exporter": "python",
   "pygments_lexer": "ipython3",
   "version": "3.10.8"
  }
 },
 "nbformat": 4,
 "nbformat_minor": 5
}
