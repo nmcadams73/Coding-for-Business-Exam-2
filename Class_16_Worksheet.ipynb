{
 "cells": [
  {
   "cell_type": "markdown",
   "id": "3b531094-33de-4959-9680-39101c7a8c2b",
   "metadata": {
    "tags": []
   },
   "source": [
    "## Dictionaries 1 Worksheet\n",
    "\n",
    "### Part 1 - Dictionary Basics\n",
    "Create an empty dictionary called d in the code block below:"
   ]
  },
  {
   "cell_type": "code",
   "execution_count": 18,
   "id": "52173d35-6ee7-4472-a7a0-4ea952cdb0b7",
   "metadata": {},
   "outputs": [],
   "source": [
    "#Print multiple outputs from a cell\n",
    "get_ipython().ast_node_interactivity = 'all'"
   ]
  },
  {
   "cell_type": "code",
   "execution_count": 1,
   "id": "4bbe26fa-e034-4425-90c6-0aa889a8fe73",
   "metadata": {},
   "outputs": [],
   "source": [
    "d = {}"
   ]
  },
  {
   "cell_type": "markdown",
   "id": "6588b9f7-a773-46a6-8557-144d19328e22",
   "metadata": {},
   "source": [
    "Now add 3 keys in the d dictionary with the following values:\n",
    "\n",
    "```\n",
    "   key           value\n",
    "   -----------------------------------\n",
    "   name          Captain Kangaroo\n",
    "   age           65\n",
    "   profession    Children's TV Host\n",
    "```\n"
   ]
  },
  {
   "cell_type": "code",
   "execution_count": 19,
   "id": "2a73ad97-c14e-40b9-b8be-da4008aff782",
   "metadata": {},
   "outputs": [
    {
     "name": "stdout",
     "output_type": "stream",
     "text": [
      "{'name': 'Captain Kangaroo', 'age': '65', 'profession': \"Children's TV Host\"}\n",
      "Children's TV Host\n"
     ]
    }
   ],
   "source": [
    "d = {'name' : 'Captain Kangaroo',\n",
    "     'age' : '65',\n",
    "     'profession' : 'Children\\'s TV Host'}\n",
    "\n",
    "print(d)\n",
    "print(d['profession'])"
   ]
  },
  {
   "cell_type": "code",
   "execution_count": 20,
   "id": "b9089fc0-efcc-417a-b2a6-facdc4cc0fd5",
   "metadata": {},
   "outputs": [
    {
     "name": "stdout",
     "output_type": "stream",
     "text": [
      "Captain Kangaroo\n"
     ]
    }
   ],
   "source": [
    "#OR...\n",
    "\n",
    "d['name'] = 'Captain Kangaroo'\n",
    "print(d['name'])\n",
    "\n",
    "#repeat for all keys..."
   ]
  },
  {
   "cell_type": "markdown",
   "id": "f4f26908-71bf-4c6a-b5e8-6263d84cb79f",
   "metadata": {},
   "source": [
    "Using the updated d dictionary, print the profession:"
   ]
  },
  {
   "cell_type": "code",
   "execution_count": 13,
   "id": "c44c6b27-ce11-4382-a37e-ea9de7f27ff8",
   "metadata": {},
   "outputs": [
    {
     "name": "stdout",
     "output_type": "stream",
     "text": [
      "Children's TV Host\n"
     ]
    }
   ],
   "source": [
    "print(d['profession'])"
   ]
  },
  {
   "cell_type": "markdown",
   "id": "596a9bc8-7d7e-46af-a31b-3819f155aed5",
   "metadata": {},
   "source": [
    "Now change the profession to 'Ship Navigator':"
   ]
  },
  {
   "cell_type": "code",
   "execution_count": 15,
   "id": "f40a753f-673a-4283-b6b8-a785562a1a1c",
   "metadata": {},
   "outputs": [
    {
     "name": "stdout",
     "output_type": "stream",
     "text": [
      "Ship Navigator\n"
     ]
    }
   ],
   "source": [
    "d['profession'] = 'Ship Navigator'\n",
    "print(d['profession'])"
   ]
  },
  {
   "cell_type": "markdown",
   "id": "f1f69887-97fe-4e61-818c-f7cae9823592",
   "metadata": {
    "tags": []
   },
   "source": [
    "### Part 2 - 'for' loops with Dictionaries\n",
    "For this next part, make sure you have placed the soliloquy.py file in the same folder as this exercise file and run the next block of code to load it into your global environment:"
   ]
  },
  {
   "cell_type": "code",
   "execution_count": 16,
   "id": "f407aae2-7d0e-4c0a-9632-dbad5d5f821d",
   "metadata": {},
   "outputs": [],
   "source": [
    "from soliloquy import paragraph"
   ]
  },
  {
   "cell_type": "markdown",
   "id": "6bda596d-297e-4f4a-96b8-4b385f285992",
   "metadata": {},
   "source": [
    "If you're curious, you can use the print() function to see what's in the variable *paragraph*."
   ]
  },
  {
   "cell_type": "code",
   "execution_count": 21,
   "id": "34b93ba0-2f09-4638-8883-d94fc9044163",
   "metadata": {},
   "outputs": [
    {
     "name": "stdout",
     "output_type": "stream",
     "text": [
      "['to', 'be', 'or', 'not', 'to', 'be', 'that', 'is', 'the', 'question', 'whether', \"'tis\", 'nobler', 'in', 'the', 'mind', 'to', 'suffer', 'the', 'slings', 'and', 'arrows', 'of', 'outrageous', 'fortune', 'or', 'to', 'take', 'arms', 'against', 'a', 'sea', 'of', 'troubles', 'and', 'by', 'opposing', 'end', 'them', 'to', 'die', 'to', 'sleep', 'no', 'more', 'and', 'by', 'a', 'sleep', 'to', 'say', 'we', 'end', 'the', 'heartache', 'and', 'the', 'thousand', 'natural', 'shocks', 'that', 'flesh', 'is', 'heir', 'to', \"'tis\", 'a', 'consummation', 'devoutly', 'to', 'be', 'wished', 'to', 'die', 'to', 'sleep', 'to', 'sleep', 'perchance', 'to', 'dream', 'aye', \"there's\", 'the', 'rub', 'for', 'in', 'that', 'sleep', 'of', 'death', 'what', 'dreams', 'may', 'come', 'when', 'we', 'have', 'shuffled', 'off', 'this', 'mortal', 'coil', 'must', 'give', 'us', 'pause', \"there's\", 'the', 'respect', 'that', 'makes', 'calamity', 'of', 'so', 'long', 'life', 'for', 'who', 'would', 'bear', 'the', 'whips', 'and', 'scorns', 'of', 'time', 'the', \"oppressor's\", 'wrong', 'the', 'proud', \"man's\", 'contumely', 'the', 'pangs', 'of', 'despised', 'love', 'the', \"law's\", 'delay', 'the', 'insolence', 'of', 'office', 'and', 'the', 'spurns', 'that', 'patient', 'merit', 'of', 'the', 'unworthy', 'takes', 'when', 'he', 'himself', 'might', 'his', 'quietus', 'make', 'with', 'a', 'bare', 'bodkin', 'who', 'would', 'fardels', 'bear', 'to', 'grunt', 'and', 'sweat', 'under', 'a', 'weary', 'life', 'but', 'that', 'the', 'dread', 'of', 'something', 'after', 'death', 'the', 'undiscovered', 'country', 'from', 'whose', 'bourn', 'no', 'traveller', 'returns', 'puzzles', 'the', 'will', 'and', 'makes', 'us', 'rather', 'bear', 'those', 'ills', 'we', 'have', 'than', 'fly', 'to', 'others', 'that', 'we', 'know', 'not', 'of', 'thus', 'conscience', 'does', 'make', 'cowards', 'of', 'us', 'all', 'and', 'thus', 'the', 'native', 'hue', 'of', 'resolution', 'is', 'sicklied', \"o'er\", 'with', 'the', 'pale', 'cast', 'of', 'thought', 'and', 'enterprises', 'of', 'great', 'pitch', 'and', 'moment', 'with', 'this', 'regard', 'their', 'currents', 'turn', 'awry', 'and', 'lose', 'the', 'name', 'of', 'action', 'soft', 'you', 'now', 'the', 'fair', 'ophelia', 'nymph', 'in', 'thy', 'orisons', 'be', 'all', 'my', 'sins', \"remember'd\"]\n"
     ]
    }
   ],
   "source": [
    "print(paragraph)"
   ]
  },
  {
   "cell_type": "markdown",
   "id": "4c864984-ed9e-4201-aba0-1da4f38a9c71",
   "metadata": {},
   "source": [
    "What we're trying to do is create a new dictionary called 'shakes' that contains every unique word in *paragraph* as a key and the count of times that word appears as the value. For example, the first word, 'to', appears 15 times, so we'd want the following key-value pair in our *shakes* dictionary:\n",
    "\n",
    "```\n",
    "   {'to' : 15, 'be' : ...}\n",
    "```\n",
    "Try running the next block of code and see what happens:"
   ]
  },
  {
   "cell_type": "code",
   "execution_count": 22,
   "id": "bd271dbc-31b4-4ed5-b2af-b01b1a50fb92",
   "metadata": {},
   "outputs": [
    {
     "ename": "KeyError",
     "evalue": "'to'",
     "output_type": "error",
     "traceback": [
      "\u001b[0;31m---------------------------------------------------------------------------\u001b[0m",
      "\u001b[0;31mKeyError\u001b[0m                                  Traceback (most recent call last)",
      "Cell \u001b[0;32mIn[22], line 4\u001b[0m\n\u001b[1;32m      1\u001b[0m shakes \u001b[38;5;241m=\u001b[39m {}\n\u001b[1;32m      3\u001b[0m \u001b[38;5;28;01mfor\u001b[39;00m word \u001b[38;5;129;01min\u001b[39;00m paragraph:\n\u001b[0;32m----> 4\u001b[0m     shakes[word] \u001b[38;5;241m=\u001b[39m \u001b[43mshakes\u001b[49m\u001b[43m[\u001b[49m\u001b[43mword\u001b[49m\u001b[43m]\u001b[49m \u001b[38;5;241m+\u001b[39m \u001b[38;5;241m1\u001b[39m\n",
      "\u001b[0;31mKeyError\u001b[0m: 'to'"
     ]
    }
   ],
   "source": [
    "shakes = {}\n",
    "\n",
    "for word in paragraph:\n",
    "    if shakes\n",
    "    shakes[word] = shakes[word] + 1\n",
    "    "
   ]
  },
  {
   "cell_type": "markdown",
   "id": "c721d7b8-21ef-4c2f-9d31-0665eefa5879",
   "metadata": {},
   "source": [
    "You get a ```KeyError```, meaning the key, 'to', is not in the dictionary *shakes*. Try modifying the code in the block below to fix this issue. *(Hint: a conditional statement will be your friend.)*"
   ]
  },
  {
   "cell_type": "code",
   "execution_count": 25,
   "id": "24ac8332-9ee1-4efa-b753-b6bf982ef813",
   "metadata": {},
   "outputs": [],
   "source": [
    "shakes = {}\n",
    "\n",
    "for word in paragraph:\n",
    "    if word in shakes:\n",
    "        shakes[word] = shakes[word] + 1\n",
    "    else:\n",
    "        shakes[word] = 1"
   ]
  },
  {
   "cell_type": "markdown",
   "id": "8f3b7254-dbf2-42b1-811a-df5ee0e03cc3",
   "metadata": {},
   "source": [
    "Once you fix the error, run the next code block to see your dictionary:"
   ]
  },
  {
   "cell_type": "code",
   "execution_count": 26,
   "id": "c31c7e07-66d3-4b2e-96c4-d8124f81e4dc",
   "metadata": {},
   "outputs": [
    {
     "data": {
      "text/plain": [
       "{'to': 15,\n",
       " 'be': 4,\n",
       " 'or': 2,\n",
       " 'not': 2,\n",
       " 'that': 7,\n",
       " 'is': 3,\n",
       " 'the': 22,\n",
       " 'question': 1,\n",
       " 'whether': 1,\n",
       " \"'tis\": 2,\n",
       " 'nobler': 1,\n",
       " 'in': 3,\n",
       " 'mind': 1,\n",
       " 'suffer': 1,\n",
       " 'slings': 1,\n",
       " 'and': 12,\n",
       " 'arrows': 1,\n",
       " 'of': 15,\n",
       " 'outrageous': 1,\n",
       " 'fortune': 1,\n",
       " 'take': 1,\n",
       " 'arms': 1,\n",
       " 'against': 1,\n",
       " 'a': 5,\n",
       " 'sea': 1,\n",
       " 'troubles': 1,\n",
       " 'by': 2,\n",
       " 'opposing': 1,\n",
       " 'end': 2,\n",
       " 'them': 1,\n",
       " 'die': 2,\n",
       " 'sleep': 5,\n",
       " 'no': 2,\n",
       " 'more': 1,\n",
       " 'say': 1,\n",
       " 'we': 4,\n",
       " 'heartache': 1,\n",
       " 'thousand': 1,\n",
       " 'natural': 1,\n",
       " 'shocks': 1,\n",
       " 'flesh': 1,\n",
       " 'heir': 1,\n",
       " 'consummation': 1,\n",
       " 'devoutly': 1,\n",
       " 'wished': 1,\n",
       " 'perchance': 1,\n",
       " 'dream': 1,\n",
       " 'aye': 1,\n",
       " \"there's\": 2,\n",
       " 'rub': 1,\n",
       " 'for': 2,\n",
       " 'death': 2,\n",
       " 'what': 1,\n",
       " 'dreams': 1,\n",
       " 'may': 1,\n",
       " 'come': 1,\n",
       " 'when': 2,\n",
       " 'have': 2,\n",
       " 'shuffled': 1,\n",
       " 'off': 1,\n",
       " 'this': 2,\n",
       " 'mortal': 1,\n",
       " 'coil': 1,\n",
       " 'must': 1,\n",
       " 'give': 1,\n",
       " 'us': 3,\n",
       " 'pause': 1,\n",
       " 'respect': 1,\n",
       " 'makes': 2,\n",
       " 'calamity': 1,\n",
       " 'so': 1,\n",
       " 'long': 1,\n",
       " 'life': 2,\n",
       " 'who': 2,\n",
       " 'would': 2,\n",
       " 'bear': 3,\n",
       " 'whips': 1,\n",
       " 'scorns': 1,\n",
       " 'time': 1,\n",
       " \"oppressor's\": 1,\n",
       " 'wrong': 1,\n",
       " 'proud': 1,\n",
       " \"man's\": 1,\n",
       " 'contumely': 1,\n",
       " 'pangs': 1,\n",
       " 'despised': 1,\n",
       " 'love': 1,\n",
       " \"law's\": 1,\n",
       " 'delay': 1,\n",
       " 'insolence': 1,\n",
       " 'office': 1,\n",
       " 'spurns': 1,\n",
       " 'patient': 1,\n",
       " 'merit': 1,\n",
       " 'unworthy': 1,\n",
       " 'takes': 1,\n",
       " 'he': 1,\n",
       " 'himself': 1,\n",
       " 'might': 1,\n",
       " 'his': 1,\n",
       " 'quietus': 1,\n",
       " 'make': 2,\n",
       " 'with': 3,\n",
       " 'bare': 1,\n",
       " 'bodkin': 1,\n",
       " 'fardels': 1,\n",
       " 'grunt': 1,\n",
       " 'sweat': 1,\n",
       " 'under': 1,\n",
       " 'weary': 1,\n",
       " 'but': 1,\n",
       " 'dread': 1,\n",
       " 'something': 1,\n",
       " 'after': 1,\n",
       " 'undiscovered': 1,\n",
       " 'country': 1,\n",
       " 'from': 1,\n",
       " 'whose': 1,\n",
       " 'bourn': 1,\n",
       " 'traveller': 1,\n",
       " 'returns': 1,\n",
       " 'puzzles': 1,\n",
       " 'will': 1,\n",
       " 'rather': 1,\n",
       " 'those': 1,\n",
       " 'ills': 1,\n",
       " 'than': 1,\n",
       " 'fly': 1,\n",
       " 'others': 1,\n",
       " 'know': 1,\n",
       " 'thus': 2,\n",
       " 'conscience': 1,\n",
       " 'does': 1,\n",
       " 'cowards': 1,\n",
       " 'all': 2,\n",
       " 'native': 1,\n",
       " 'hue': 1,\n",
       " 'resolution': 1,\n",
       " 'sicklied': 1,\n",
       " \"o'er\": 1,\n",
       " 'pale': 1,\n",
       " 'cast': 1,\n",
       " 'thought': 1,\n",
       " 'enterprises': 1,\n",
       " 'great': 1,\n",
       " 'pitch': 1,\n",
       " 'moment': 1,\n",
       " 'regard': 1,\n",
       " 'their': 1,\n",
       " 'currents': 1,\n",
       " 'turn': 1,\n",
       " 'awry': 1,\n",
       " 'lose': 1,\n",
       " 'name': 1,\n",
       " 'action': 1,\n",
       " 'soft': 1,\n",
       " 'you': 1,\n",
       " 'now': 1,\n",
       " 'fair': 1,\n",
       " 'ophelia': 1,\n",
       " 'nymph': 1,\n",
       " 'thy': 1,\n",
       " 'orisons': 1,\n",
       " 'my': 1,\n",
       " 'sins': 1,\n",
       " \"remember'd\": 1}"
      ]
     },
     "execution_count": 26,
     "metadata": {},
     "output_type": "execute_result"
    }
   ],
   "source": [
    "shakes"
   ]
  },
  {
   "cell_type": "markdown",
   "id": "68c99853-992b-4032-8723-41abec0b47d6",
   "metadata": {},
   "source": [
    "Now that we have our dictionary that includes the count of each unique word in *paragraph*, we might want to see what the dictionary keys are. There's a dictionary method called ```keys()``` that does this in a for loop. Run the code below:"
   ]
  },
  {
   "cell_type": "code",
   "execution_count": 27,
   "id": "c8ab0016-db34-4950-aee0-2771494bf66c",
   "metadata": {},
   "outputs": [
    {
     "name": "stdout",
     "output_type": "stream",
     "text": [
      "to\n",
      "be\n",
      "or\n",
      "not\n",
      "that\n",
      "is\n",
      "the\n",
      "question\n",
      "whether\n",
      "'tis\n",
      "nobler\n",
      "in\n",
      "mind\n",
      "suffer\n",
      "slings\n",
      "and\n",
      "arrows\n",
      "of\n",
      "outrageous\n",
      "fortune\n",
      "take\n",
      "arms\n",
      "against\n",
      "a\n",
      "sea\n",
      "troubles\n",
      "by\n",
      "opposing\n",
      "end\n",
      "them\n",
      "die\n",
      "sleep\n",
      "no\n",
      "more\n",
      "say\n",
      "we\n",
      "heartache\n",
      "thousand\n",
      "natural\n",
      "shocks\n",
      "flesh\n",
      "heir\n",
      "consummation\n",
      "devoutly\n",
      "wished\n",
      "perchance\n",
      "dream\n",
      "aye\n",
      "there's\n",
      "rub\n",
      "for\n",
      "death\n",
      "what\n",
      "dreams\n",
      "may\n",
      "come\n",
      "when\n",
      "have\n",
      "shuffled\n",
      "off\n",
      "this\n",
      "mortal\n",
      "coil\n",
      "must\n",
      "give\n",
      "us\n",
      "pause\n",
      "respect\n",
      "makes\n",
      "calamity\n",
      "so\n",
      "long\n",
      "life\n",
      "who\n",
      "would\n",
      "bear\n",
      "whips\n",
      "scorns\n",
      "time\n",
      "oppressor's\n",
      "wrong\n",
      "proud\n",
      "man's\n",
      "contumely\n",
      "pangs\n",
      "despised\n",
      "love\n",
      "law's\n",
      "delay\n",
      "insolence\n",
      "office\n",
      "spurns\n",
      "patient\n",
      "merit\n",
      "unworthy\n",
      "takes\n",
      "he\n",
      "himself\n",
      "might\n",
      "his\n",
      "quietus\n",
      "make\n",
      "with\n",
      "bare\n",
      "bodkin\n",
      "fardels\n",
      "grunt\n",
      "sweat\n",
      "under\n",
      "weary\n",
      "but\n",
      "dread\n",
      "something\n",
      "after\n",
      "undiscovered\n",
      "country\n",
      "from\n",
      "whose\n",
      "bourn\n",
      "traveller\n",
      "returns\n",
      "puzzles\n",
      "will\n",
      "rather\n",
      "those\n",
      "ills\n",
      "than\n",
      "fly\n",
      "others\n",
      "know\n",
      "thus\n",
      "conscience\n",
      "does\n",
      "cowards\n",
      "all\n",
      "native\n",
      "hue\n",
      "resolution\n",
      "sicklied\n",
      "o'er\n",
      "pale\n",
      "cast\n",
      "thought\n",
      "enterprises\n",
      "great\n",
      "pitch\n",
      "moment\n",
      "regard\n",
      "their\n",
      "currents\n",
      "turn\n",
      "awry\n",
      "lose\n",
      "name\n",
      "action\n",
      "soft\n",
      "you\n",
      "now\n",
      "fair\n",
      "ophelia\n",
      "nymph\n",
      "thy\n",
      "orisons\n",
      "my\n",
      "sins\n",
      "remember'd\n"
     ]
    }
   ],
   "source": [
    "for key in shakes.keys():\n",
    "    print(key)"
   ]
  },
  {
   "cell_type": "markdown",
   "id": "2c0789f7-5904-425a-9f51-bbefe3e4de15",
   "metadata": {},
   "source": [
    "Run the next code block -- does anything different happen?"
   ]
  },
  {
   "cell_type": "code",
   "execution_count": 28,
   "id": "9837c7d4-0c17-4227-baf9-87e4868ce440",
   "metadata": {},
   "outputs": [
    {
     "name": "stdout",
     "output_type": "stream",
     "text": [
      "to\n",
      "be\n",
      "or\n",
      "not\n",
      "that\n",
      "is\n",
      "the\n",
      "question\n",
      "whether\n",
      "'tis\n",
      "nobler\n",
      "in\n",
      "mind\n",
      "suffer\n",
      "slings\n",
      "and\n",
      "arrows\n",
      "of\n",
      "outrageous\n",
      "fortune\n",
      "take\n",
      "arms\n",
      "against\n",
      "a\n",
      "sea\n",
      "troubles\n",
      "by\n",
      "opposing\n",
      "end\n",
      "them\n",
      "die\n",
      "sleep\n",
      "no\n",
      "more\n",
      "say\n",
      "we\n",
      "heartache\n",
      "thousand\n",
      "natural\n",
      "shocks\n",
      "flesh\n",
      "heir\n",
      "consummation\n",
      "devoutly\n",
      "wished\n",
      "perchance\n",
      "dream\n",
      "aye\n",
      "there's\n",
      "rub\n",
      "for\n",
      "death\n",
      "what\n",
      "dreams\n",
      "may\n",
      "come\n",
      "when\n",
      "have\n",
      "shuffled\n",
      "off\n",
      "this\n",
      "mortal\n",
      "coil\n",
      "must\n",
      "give\n",
      "us\n",
      "pause\n",
      "respect\n",
      "makes\n",
      "calamity\n",
      "so\n",
      "long\n",
      "life\n",
      "who\n",
      "would\n",
      "bear\n",
      "whips\n",
      "scorns\n",
      "time\n",
      "oppressor's\n",
      "wrong\n",
      "proud\n",
      "man's\n",
      "contumely\n",
      "pangs\n",
      "despised\n",
      "love\n",
      "law's\n",
      "delay\n",
      "insolence\n",
      "office\n",
      "spurns\n",
      "patient\n",
      "merit\n",
      "unworthy\n",
      "takes\n",
      "he\n",
      "himself\n",
      "might\n",
      "his\n",
      "quietus\n",
      "make\n",
      "with\n",
      "bare\n",
      "bodkin\n",
      "fardels\n",
      "grunt\n",
      "sweat\n",
      "under\n",
      "weary\n",
      "but\n",
      "dread\n",
      "something\n",
      "after\n",
      "undiscovered\n",
      "country\n",
      "from\n",
      "whose\n",
      "bourn\n",
      "traveller\n",
      "returns\n",
      "puzzles\n",
      "will\n",
      "rather\n",
      "those\n",
      "ills\n",
      "than\n",
      "fly\n",
      "others\n",
      "know\n",
      "thus\n",
      "conscience\n",
      "does\n",
      "cowards\n",
      "all\n",
      "native\n",
      "hue\n",
      "resolution\n",
      "sicklied\n",
      "o'er\n",
      "pale\n",
      "cast\n",
      "thought\n",
      "enterprises\n",
      "great\n",
      "pitch\n",
      "moment\n",
      "regard\n",
      "their\n",
      "currents\n",
      "turn\n",
      "awry\n",
      "lose\n",
      "name\n",
      "action\n",
      "soft\n",
      "you\n",
      "now\n",
      "fair\n",
      "ophelia\n",
      "nymph\n",
      "thy\n",
      "orisons\n",
      "my\n",
      "sins\n",
      "remember'd\n"
     ]
    }
   ],
   "source": [
    "for key in shakes:\n",
    "    print(key)"
   ]
  },
  {
   "cell_type": "markdown",
   "id": "d625a70b-c6e4-47a5-9169-1424bfe59009",
   "metadata": {},
   "source": [
    "Dictionaries also have a method called ```items()``` which returns a tuple containing each key and item. (A 'tuple' is just a list that can't be modified...you can index into a tuple and use for loops with tuples. You just can't modify the elements in a tuple.) Run the following code to see the tuples in our dictionary and notice that each tuple is in ()s and not []s."
   ]
  },
  {
   "cell_type": "code",
   "execution_count": 29,
   "id": "d9025030-c9b8-4e3b-80f9-198121263929",
   "metadata": {},
   "outputs": [
    {
     "name": "stdout",
     "output_type": "stream",
     "text": [
      "('to', 15)\n",
      "('be', 4)\n",
      "('or', 2)\n",
      "('not', 2)\n",
      "('that', 7)\n",
      "('is', 3)\n",
      "('the', 22)\n",
      "('question', 1)\n",
      "('whether', 1)\n",
      "(\"'tis\", 2)\n",
      "('nobler', 1)\n",
      "('in', 3)\n",
      "('mind', 1)\n",
      "('suffer', 1)\n",
      "('slings', 1)\n",
      "('and', 12)\n",
      "('arrows', 1)\n",
      "('of', 15)\n",
      "('outrageous', 1)\n",
      "('fortune', 1)\n",
      "('take', 1)\n",
      "('arms', 1)\n",
      "('against', 1)\n",
      "('a', 5)\n",
      "('sea', 1)\n",
      "('troubles', 1)\n",
      "('by', 2)\n",
      "('opposing', 1)\n",
      "('end', 2)\n",
      "('them', 1)\n",
      "('die', 2)\n",
      "('sleep', 5)\n",
      "('no', 2)\n",
      "('more', 1)\n",
      "('say', 1)\n",
      "('we', 4)\n",
      "('heartache', 1)\n",
      "('thousand', 1)\n",
      "('natural', 1)\n",
      "('shocks', 1)\n",
      "('flesh', 1)\n",
      "('heir', 1)\n",
      "('consummation', 1)\n",
      "('devoutly', 1)\n",
      "('wished', 1)\n",
      "('perchance', 1)\n",
      "('dream', 1)\n",
      "('aye', 1)\n",
      "(\"there's\", 2)\n",
      "('rub', 1)\n",
      "('for', 2)\n",
      "('death', 2)\n",
      "('what', 1)\n",
      "('dreams', 1)\n",
      "('may', 1)\n",
      "('come', 1)\n",
      "('when', 2)\n",
      "('have', 2)\n",
      "('shuffled', 1)\n",
      "('off', 1)\n",
      "('this', 2)\n",
      "('mortal', 1)\n",
      "('coil', 1)\n",
      "('must', 1)\n",
      "('give', 1)\n",
      "('us', 3)\n",
      "('pause', 1)\n",
      "('respect', 1)\n",
      "('makes', 2)\n",
      "('calamity', 1)\n",
      "('so', 1)\n",
      "('long', 1)\n",
      "('life', 2)\n",
      "('who', 2)\n",
      "('would', 2)\n",
      "('bear', 3)\n",
      "('whips', 1)\n",
      "('scorns', 1)\n",
      "('time', 1)\n",
      "(\"oppressor's\", 1)\n",
      "('wrong', 1)\n",
      "('proud', 1)\n",
      "(\"man's\", 1)\n",
      "('contumely', 1)\n",
      "('pangs', 1)\n",
      "('despised', 1)\n",
      "('love', 1)\n",
      "(\"law's\", 1)\n",
      "('delay', 1)\n",
      "('insolence', 1)\n",
      "('office', 1)\n",
      "('spurns', 1)\n",
      "('patient', 1)\n",
      "('merit', 1)\n",
      "('unworthy', 1)\n",
      "('takes', 1)\n",
      "('he', 1)\n",
      "('himself', 1)\n",
      "('might', 1)\n",
      "('his', 1)\n",
      "('quietus', 1)\n",
      "('make', 2)\n",
      "('with', 3)\n",
      "('bare', 1)\n",
      "('bodkin', 1)\n",
      "('fardels', 1)\n",
      "('grunt', 1)\n",
      "('sweat', 1)\n",
      "('under', 1)\n",
      "('weary', 1)\n",
      "('but', 1)\n",
      "('dread', 1)\n",
      "('something', 1)\n",
      "('after', 1)\n",
      "('undiscovered', 1)\n",
      "('country', 1)\n",
      "('from', 1)\n",
      "('whose', 1)\n",
      "('bourn', 1)\n",
      "('traveller', 1)\n",
      "('returns', 1)\n",
      "('puzzles', 1)\n",
      "('will', 1)\n",
      "('rather', 1)\n",
      "('those', 1)\n",
      "('ills', 1)\n",
      "('than', 1)\n",
      "('fly', 1)\n",
      "('others', 1)\n",
      "('know', 1)\n",
      "('thus', 2)\n",
      "('conscience', 1)\n",
      "('does', 1)\n",
      "('cowards', 1)\n",
      "('all', 2)\n",
      "('native', 1)\n",
      "('hue', 1)\n",
      "('resolution', 1)\n",
      "('sicklied', 1)\n",
      "(\"o'er\", 1)\n",
      "('pale', 1)\n",
      "('cast', 1)\n",
      "('thought', 1)\n",
      "('enterprises', 1)\n",
      "('great', 1)\n",
      "('pitch', 1)\n",
      "('moment', 1)\n",
      "('regard', 1)\n",
      "('their', 1)\n",
      "('currents', 1)\n",
      "('turn', 1)\n",
      "('awry', 1)\n",
      "('lose', 1)\n",
      "('name', 1)\n",
      "('action', 1)\n",
      "('soft', 1)\n",
      "('you', 1)\n",
      "('now', 1)\n",
      "('fair', 1)\n",
      "('ophelia', 1)\n",
      "('nymph', 1)\n",
      "('thy', 1)\n",
      "('orisons', 1)\n",
      "('my', 1)\n",
      "('sins', 1)\n",
      "(\"remember'd\", 1)\n"
     ]
    }
   ],
   "source": [
    "for key_value_pair in shakes.items():\n",
    "    print(key_value_pair)"
   ]
  },
  {
   "cell_type": "markdown",
   "id": "31bf84b0-11a9-4906-90a5-b3cf7358433a",
   "metadata": {},
   "source": [
    "Since the ```items()``` method always returns the key and value in that order, Pythonistas often use multiple assignment to store the key in a loop variable called *key* and the value in a loop variable called *value*. See how this works below:"
   ]
  },
  {
   "cell_type": "code",
   "execution_count": 30,
   "id": "66e47586-f558-49b5-8f24-d2bc34d64cbb",
   "metadata": {},
   "outputs": [
    {
     "name": "stdout",
     "output_type": "stream",
     "text": [
      "The word, to, appears in the paragraph 15 time(s).\n",
      "The word, be, appears in the paragraph 4 time(s).\n",
      "The word, or, appears in the paragraph 2 time(s).\n",
      "The word, not, appears in the paragraph 2 time(s).\n",
      "The word, that, appears in the paragraph 7 time(s).\n",
      "The word, is, appears in the paragraph 3 time(s).\n",
      "The word, the, appears in the paragraph 22 time(s).\n",
      "The word, question, appears in the paragraph 1 time(s).\n",
      "The word, whether, appears in the paragraph 1 time(s).\n",
      "The word, 'tis, appears in the paragraph 2 time(s).\n",
      "The word, nobler, appears in the paragraph 1 time(s).\n",
      "The word, in, appears in the paragraph 3 time(s).\n",
      "The word, mind, appears in the paragraph 1 time(s).\n",
      "The word, suffer, appears in the paragraph 1 time(s).\n",
      "The word, slings, appears in the paragraph 1 time(s).\n",
      "The word, and, appears in the paragraph 12 time(s).\n",
      "The word, arrows, appears in the paragraph 1 time(s).\n",
      "The word, of, appears in the paragraph 15 time(s).\n",
      "The word, outrageous, appears in the paragraph 1 time(s).\n",
      "The word, fortune, appears in the paragraph 1 time(s).\n",
      "The word, take, appears in the paragraph 1 time(s).\n",
      "The word, arms, appears in the paragraph 1 time(s).\n",
      "The word, against, appears in the paragraph 1 time(s).\n",
      "The word, a, appears in the paragraph 5 time(s).\n",
      "The word, sea, appears in the paragraph 1 time(s).\n",
      "The word, troubles, appears in the paragraph 1 time(s).\n",
      "The word, by, appears in the paragraph 2 time(s).\n",
      "The word, opposing, appears in the paragraph 1 time(s).\n",
      "The word, end, appears in the paragraph 2 time(s).\n",
      "The word, them, appears in the paragraph 1 time(s).\n",
      "The word, die, appears in the paragraph 2 time(s).\n",
      "The word, sleep, appears in the paragraph 5 time(s).\n",
      "The word, no, appears in the paragraph 2 time(s).\n",
      "The word, more, appears in the paragraph 1 time(s).\n",
      "The word, say, appears in the paragraph 1 time(s).\n",
      "The word, we, appears in the paragraph 4 time(s).\n",
      "The word, heartache, appears in the paragraph 1 time(s).\n",
      "The word, thousand, appears in the paragraph 1 time(s).\n",
      "The word, natural, appears in the paragraph 1 time(s).\n",
      "The word, shocks, appears in the paragraph 1 time(s).\n",
      "The word, flesh, appears in the paragraph 1 time(s).\n",
      "The word, heir, appears in the paragraph 1 time(s).\n",
      "The word, consummation, appears in the paragraph 1 time(s).\n",
      "The word, devoutly, appears in the paragraph 1 time(s).\n",
      "The word, wished, appears in the paragraph 1 time(s).\n",
      "The word, perchance, appears in the paragraph 1 time(s).\n",
      "The word, dream, appears in the paragraph 1 time(s).\n",
      "The word, aye, appears in the paragraph 1 time(s).\n",
      "The word, there's, appears in the paragraph 2 time(s).\n",
      "The word, rub, appears in the paragraph 1 time(s).\n",
      "The word, for, appears in the paragraph 2 time(s).\n",
      "The word, death, appears in the paragraph 2 time(s).\n",
      "The word, what, appears in the paragraph 1 time(s).\n",
      "The word, dreams, appears in the paragraph 1 time(s).\n",
      "The word, may, appears in the paragraph 1 time(s).\n",
      "The word, come, appears in the paragraph 1 time(s).\n",
      "The word, when, appears in the paragraph 2 time(s).\n",
      "The word, have, appears in the paragraph 2 time(s).\n",
      "The word, shuffled, appears in the paragraph 1 time(s).\n",
      "The word, off, appears in the paragraph 1 time(s).\n",
      "The word, this, appears in the paragraph 2 time(s).\n",
      "The word, mortal, appears in the paragraph 1 time(s).\n",
      "The word, coil, appears in the paragraph 1 time(s).\n",
      "The word, must, appears in the paragraph 1 time(s).\n",
      "The word, give, appears in the paragraph 1 time(s).\n",
      "The word, us, appears in the paragraph 3 time(s).\n",
      "The word, pause, appears in the paragraph 1 time(s).\n",
      "The word, respect, appears in the paragraph 1 time(s).\n",
      "The word, makes, appears in the paragraph 2 time(s).\n",
      "The word, calamity, appears in the paragraph 1 time(s).\n",
      "The word, so, appears in the paragraph 1 time(s).\n",
      "The word, long, appears in the paragraph 1 time(s).\n",
      "The word, life, appears in the paragraph 2 time(s).\n",
      "The word, who, appears in the paragraph 2 time(s).\n",
      "The word, would, appears in the paragraph 2 time(s).\n",
      "The word, bear, appears in the paragraph 3 time(s).\n",
      "The word, whips, appears in the paragraph 1 time(s).\n",
      "The word, scorns, appears in the paragraph 1 time(s).\n",
      "The word, time, appears in the paragraph 1 time(s).\n",
      "The word, oppressor's, appears in the paragraph 1 time(s).\n",
      "The word, wrong, appears in the paragraph 1 time(s).\n",
      "The word, proud, appears in the paragraph 1 time(s).\n",
      "The word, man's, appears in the paragraph 1 time(s).\n",
      "The word, contumely, appears in the paragraph 1 time(s).\n",
      "The word, pangs, appears in the paragraph 1 time(s).\n",
      "The word, despised, appears in the paragraph 1 time(s).\n",
      "The word, love, appears in the paragraph 1 time(s).\n",
      "The word, law's, appears in the paragraph 1 time(s).\n",
      "The word, delay, appears in the paragraph 1 time(s).\n",
      "The word, insolence, appears in the paragraph 1 time(s).\n",
      "The word, office, appears in the paragraph 1 time(s).\n",
      "The word, spurns, appears in the paragraph 1 time(s).\n",
      "The word, patient, appears in the paragraph 1 time(s).\n",
      "The word, merit, appears in the paragraph 1 time(s).\n",
      "The word, unworthy, appears in the paragraph 1 time(s).\n",
      "The word, takes, appears in the paragraph 1 time(s).\n",
      "The word, he, appears in the paragraph 1 time(s).\n",
      "The word, himself, appears in the paragraph 1 time(s).\n",
      "The word, might, appears in the paragraph 1 time(s).\n",
      "The word, his, appears in the paragraph 1 time(s).\n",
      "The word, quietus, appears in the paragraph 1 time(s).\n",
      "The word, make, appears in the paragraph 2 time(s).\n",
      "The word, with, appears in the paragraph 3 time(s).\n",
      "The word, bare, appears in the paragraph 1 time(s).\n",
      "The word, bodkin, appears in the paragraph 1 time(s).\n",
      "The word, fardels, appears in the paragraph 1 time(s).\n",
      "The word, grunt, appears in the paragraph 1 time(s).\n",
      "The word, sweat, appears in the paragraph 1 time(s).\n",
      "The word, under, appears in the paragraph 1 time(s).\n",
      "The word, weary, appears in the paragraph 1 time(s).\n",
      "The word, but, appears in the paragraph 1 time(s).\n",
      "The word, dread, appears in the paragraph 1 time(s).\n",
      "The word, something, appears in the paragraph 1 time(s).\n",
      "The word, after, appears in the paragraph 1 time(s).\n",
      "The word, undiscovered, appears in the paragraph 1 time(s).\n",
      "The word, country, appears in the paragraph 1 time(s).\n",
      "The word, from, appears in the paragraph 1 time(s).\n",
      "The word, whose, appears in the paragraph 1 time(s).\n",
      "The word, bourn, appears in the paragraph 1 time(s).\n",
      "The word, traveller, appears in the paragraph 1 time(s).\n",
      "The word, returns, appears in the paragraph 1 time(s).\n",
      "The word, puzzles, appears in the paragraph 1 time(s).\n",
      "The word, will, appears in the paragraph 1 time(s).\n",
      "The word, rather, appears in the paragraph 1 time(s).\n",
      "The word, those, appears in the paragraph 1 time(s).\n",
      "The word, ills, appears in the paragraph 1 time(s).\n",
      "The word, than, appears in the paragraph 1 time(s).\n",
      "The word, fly, appears in the paragraph 1 time(s).\n",
      "The word, others, appears in the paragraph 1 time(s).\n",
      "The word, know, appears in the paragraph 1 time(s).\n",
      "The word, thus, appears in the paragraph 2 time(s).\n",
      "The word, conscience, appears in the paragraph 1 time(s).\n",
      "The word, does, appears in the paragraph 1 time(s).\n",
      "The word, cowards, appears in the paragraph 1 time(s).\n",
      "The word, all, appears in the paragraph 2 time(s).\n",
      "The word, native, appears in the paragraph 1 time(s).\n",
      "The word, hue, appears in the paragraph 1 time(s).\n",
      "The word, resolution, appears in the paragraph 1 time(s).\n",
      "The word, sicklied, appears in the paragraph 1 time(s).\n",
      "The word, o'er, appears in the paragraph 1 time(s).\n",
      "The word, pale, appears in the paragraph 1 time(s).\n",
      "The word, cast, appears in the paragraph 1 time(s).\n",
      "The word, thought, appears in the paragraph 1 time(s).\n",
      "The word, enterprises, appears in the paragraph 1 time(s).\n",
      "The word, great, appears in the paragraph 1 time(s).\n",
      "The word, pitch, appears in the paragraph 1 time(s).\n",
      "The word, moment, appears in the paragraph 1 time(s).\n",
      "The word, regard, appears in the paragraph 1 time(s).\n",
      "The word, their, appears in the paragraph 1 time(s).\n",
      "The word, currents, appears in the paragraph 1 time(s).\n",
      "The word, turn, appears in the paragraph 1 time(s).\n",
      "The word, awry, appears in the paragraph 1 time(s).\n",
      "The word, lose, appears in the paragraph 1 time(s).\n",
      "The word, name, appears in the paragraph 1 time(s).\n",
      "The word, action, appears in the paragraph 1 time(s).\n",
      "The word, soft, appears in the paragraph 1 time(s).\n",
      "The word, you, appears in the paragraph 1 time(s).\n",
      "The word, now, appears in the paragraph 1 time(s).\n",
      "The word, fair, appears in the paragraph 1 time(s).\n",
      "The word, ophelia, appears in the paragraph 1 time(s).\n",
      "The word, nymph, appears in the paragraph 1 time(s).\n",
      "The word, thy, appears in the paragraph 1 time(s).\n",
      "The word, orisons, appears in the paragraph 1 time(s).\n",
      "The word, my, appears in the paragraph 1 time(s).\n",
      "The word, sins, appears in the paragraph 1 time(s).\n",
      "The word, remember'd, appears in the paragraph 1 time(s).\n"
     ]
    }
   ],
   "source": [
    "for key, value in shakes.items():\n",
    "    print(f'The word, {key}, appears in the paragraph {value} time(s).')"
   ]
  },
  {
   "cell_type": "markdown",
   "id": "8f2882bf-e8f2-4bff-832e-20ac35129e82",
   "metadata": {
    "tags": []
   },
   "source": [
    "### Part 3 - Lists of Dictionaries\n",
    "Suppose you have a list of dictionaries. Each dictionary represents one student in a class and contains all of that student's homework scores and exam scores. For example:\n",
    "\n",
    "```\n",
    "students = [\n",
    "    {'id': 87654321, 'homework': [10,9,9,10,7,8], ‘exams’: [91,86,92] },\n",
    "    {'id': 12345678, 'homework': [9,9,9,8,8,10], ‘exams’: [87,90,89] },\n",
    "    {'id': 23344556, 'homework': [7,8,8,7,8,6], ‘exams’: [82,78,77] }\n",
    "]\n",
    "```\n",
    "Run the next code block to load this list of dictionaries in:"
   ]
  },
  {
   "cell_type": "code",
   "execution_count": 31,
   "id": "2e9cb095-0be4-4f4c-8f63-4f0159bbe02e",
   "metadata": {},
   "outputs": [],
   "source": [
    "students = [\n",
    "    {'id': 87654321, 'homework': [10,9,9,10,7,8], 'exams': [91,86,92]},\n",
    "    {'id': 12345678, 'homework': [9,9,9,8,8,10], 'exams': [87,90,89]},\n",
    "    {'id': 23344556, 'homework': [7,8,8,7,8,6], 'exams': [82,78,77]}\n",
    "]"
   ]
  },
  {
   "cell_type": "markdown",
   "id": "72a5911a-99b8-402c-9e49-575fd9c22fbb",
   "metadata": {},
   "source": [
    "How would you index into the list in order to print the 2nd student's dictionary?"
   ]
  },
  {
   "cell_type": "code",
   "execution_count": 38,
   "id": "08e26b5d-b2a4-4746-8125-7ecd1a89758c",
   "metadata": {},
   "outputs": [
    {
     "name": "stdout",
     "output_type": "stream",
     "text": [
      "{'id': 12345678, 'homework': [9, 9, 9, 8, 8, 10], 'exams': [87, 90, 89]}\n"
     ]
    }
   ],
   "source": [
    "print(students[1])"
   ]
  },
  {
   "cell_type": "markdown",
   "id": "5be9bdeb-58b1-4866-9ea7-b7c726dd31f2",
   "metadata": {},
   "source": [
    "Print the 2nd student's exam scores:"
   ]
  },
  {
   "cell_type": "code",
   "execution_count": 41,
   "id": "7926ec7b-0e5d-412e-b621-9f89899242b1",
   "metadata": {},
   "outputs": [
    {
     "name": "stdout",
     "output_type": "stream",
     "text": [
      "[87, 90, 89]\n"
     ]
    }
   ],
   "source": [
    "print(students[1]['exams'])"
   ]
  },
  {
   "cell_type": "markdown",
   "id": "41cdd15c-5360-4796-be31-c5a170c9a7c9",
   "metadata": {},
   "source": [
    "Now print the 2nd student's 3rd exam score:"
   ]
  },
  {
   "cell_type": "code",
   "execution_count": 42,
   "id": "0711e9c1-d603-4224-8f57-5954b4afe252",
   "metadata": {},
   "outputs": [
    {
     "name": "stdout",
     "output_type": "stream",
     "text": [
      "89\n"
     ]
    }
   ],
   "source": [
    "print(students[1]['exams'][2])"
   ]
  },
  {
   "cell_type": "markdown",
   "id": "44bd01f4-4f7b-4c9e-a485-1523b4a38de8",
   "metadata": {},
   "source": [
    "Calculate the average homework score for student 1 and multiply it by 10 (so that it's a score out of 100):"
   ]
  },
  {
   "cell_type": "code",
   "execution_count": 47,
   "id": "8a046f8f-7669-4ee9-b5fe-c90f5140ca79",
   "metadata": {},
   "outputs": [
    {
     "name": "stdout",
     "output_type": "stream",
     "text": [
      "88.33333333333334\n"
     ]
    }
   ],
   "source": [
    "avg_hw = sum(students[0]['homework']) / len(students[0]['homework'])*10\n",
    "print(avg_hw)"
   ]
  },
  {
   "cell_type": "markdown",
   "id": "6067a194-aecc-420b-9e7a-b4e130928e83",
   "metadata": {},
   "source": [
    "Calculate the average exam score for student 1:"
   ]
  },
  {
   "cell_type": "code",
   "execution_count": 48,
   "id": "ff5eec4a-4a40-4208-84af-078cd33dadae",
   "metadata": {},
   "outputs": [
    {
     "name": "stdout",
     "output_type": "stream",
     "text": [
      "89.66666666666667\n"
     ]
    }
   ],
   "source": [
    "avg_exam = sum(students[0]['exams']) / len(students[0]['exams'])\n",
    "print(avg_exam)"
   ]
  },
  {
   "cell_type": "markdown",
   "id": "47820cc1-4668-4cc6-ba6d-105a61f1fc4b",
   "metadata": {},
   "source": [
    "Now that you have the average homework and average exam scores for student 1, run the next code block to calculate the student's average overall grade:"
   ]
  },
  {
   "cell_type": "code",
   "execution_count": 49,
   "id": "c2b962cd-d0b1-483f-a10a-acf557a90132",
   "metadata": {},
   "outputs": [
    {
     "name": "stdout",
     "output_type": "stream",
     "text": [
      "89.0\n"
     ]
    }
   ],
   "source": [
    "avg_grade = 0.5*avg_hw + 0.5*avg_exam\n",
    "print(avg_grade)"
   ]
  },
  {
   "cell_type": "markdown",
   "id": "5d25c81b-ed6b-4c31-84c7-dce71d83d397",
   "metadata": {},
   "source": [
    "Finally, write Python code to compute the average overall grade for all 3 students. Put each student's average overall grade in that student's dictionary using the key _avg_grade_."
   ]
  },
  {
   "cell_type": "code",
   "execution_count": 55,
   "id": "86661ffe-1a5d-4073-a04d-5b3f12dfca1e",
   "metadata": {
    "tags": []
   },
   "outputs": [
    {
     "data": {
      "text/plain": [
       "[{'id': 87654321,\n",
       "  'homework': [10, 9, 9, 10, 7, 8],\n",
       "  'exams': [91, 86, 92],\n",
       "  'avg_grade': 89.0},\n",
       " {'id': 12345678,\n",
       "  'homework': [9, 9, 9, 8, 8, 10],\n",
       "  'exams': [87, 90, 89],\n",
       "  'avg_grade': 88.5},\n",
       " {'id': 23344556,\n",
       "  'homework': [7, 8, 8, 7, 8, 6],\n",
       "  'exams': [82, 78, 77],\n",
       "  'avg_grade': 76.16666666666666}]"
      ]
     },
     "execution_count": 55,
     "metadata": {},
     "output_type": "execute_result"
    }
   ],
   "source": [
    "for stu_dict in students:\n",
    "    avg_hw = sum(stu_dict['homework']) / len(stu_dict['homework'])*10\n",
    "    avg_exam = sum(stu_dict['exams']) / len(stu_dict['exams'])\n",
    "    stu_dict['avg_grade'] = 0.5 * avg_hw + 0.5 * avg_exam\n",
    "students "
   ]
  },
  {
   "cell_type": "markdown",
   "id": "0709d276-e04f-4fd1-818d-77dad28c1fb2",
   "metadata": {},
   "source": [
    "Write a function called *grade* that takes 1 argument, a student id #, and returns that student's average overall grade from the *students* list. If the id # is not found, return -999."
   ]
  },
  {
   "cell_type": "code",
   "execution_count": null,
   "id": "3ba691ea-9ddf-451d-812e-2c78b698e7ba",
   "metadata": {},
   "outputs": [],
   "source": []
  }
 ],
 "metadata": {
  "kernelspec": {
   "display_name": "Python 3 (ipykernel)",
   "language": "python",
   "name": "python3"
  },
  "language_info": {
   "codemirror_mode": {
    "name": "ipython",
    "version": 3
   },
   "file_extension": ".py",
   "mimetype": "text/x-python",
   "name": "python",
   "nbconvert_exporter": "python",
   "pygments_lexer": "ipython3",
   "version": "3.10.8"
  }
 },
 "nbformat": 4,
 "nbformat_minor": 5
}
