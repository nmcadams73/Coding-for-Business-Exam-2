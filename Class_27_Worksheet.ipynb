{
 "cells": [
  {
   "cell_type": "markdown",
   "id": "dd722c00-7826-4627-9bfd-7650d2bb7c0b",
   "metadata": {},
   "source": [
    "## Regular Expressions Worksheet 2\n",
    "\n",
    "### Part 1 - Checking for Matches\n",
    "\n",
    "Now that we've practiced writing regular expressions, we can begin to test our expressions and check for matches using functions from the `re` module."
   ]
  },
  {
   "cell_type": "code",
   "execution_count": 1,
   "id": "2ea138b8-9b1e-440f-bdca-1782ab0f94e2",
   "metadata": {},
   "outputs": [],
   "source": [
    "import re"
   ]
  },
  {
   "cell_type": "markdown",
   "id": "4e71888d-62fc-448b-953b-9010d43e16a6",
   "metadata": {},
   "source": [
    "For this first example, we'll use the regular expression we created last class for representing US dollars and cents:"
   ]
  },
  {
   "cell_type": "code",
   "execution_count": 2,
   "id": "0bfa1355-da25-4f23-b188-21067c90f204",
   "metadata": {},
   "outputs": [],
   "source": [
    "regex = \" \\$([0-9]|[1-9][0-9]+)\\.\\d\\d \""
   ]
  },
  {
   "cell_type": "markdown",
   "id": "1975d586-68e2-488d-8d59-63c223e349bc",
   "metadata": {},
   "source": [
    "**STEP 1.** First, we need to 'compile' this into a regular expression pattern...right now, it's just an odd-looking python string. The way we do this is with the `compile()` function from `re`:"
   ]
  },
  {
   "cell_type": "code",
   "execution_count": 3,
   "id": "9f0c4e0c-ed07-4f6d-98e0-f569876ec1e1",
   "metadata": {},
   "outputs": [],
   "source": [
    "compiled_regex = re.compile(regex)"
   ]
  },
  {
   "cell_type": "code",
   "execution_count": 4,
   "id": "90935c16-d5cb-4f2c-b74b-8fb46ecc1e71",
   "metadata": {},
   "outputs": [
    {
     "data": {
      "text/plain": [
       "re.Pattern"
      ]
     },
     "execution_count": 4,
     "metadata": {},
     "output_type": "execute_result"
    }
   ],
   "source": [
    "type (compiled_regex)"
   ]
  },
  {
   "cell_type": "markdown",
   "id": "d72695c2-4ac6-4d09-98cb-777be8d182a9",
   "metadata": {},
   "source": [
    "The variable, `compiled_regex`, now contains a regular expression pattern.\n",
    "\n",
    "**STEP 2.** Now, let's use `.search()`, which is a method that works specifically on compiled regular expressions. `.search()` will look for the first match and return a 'match object' we can use later:"
   ]
  },
  {
   "cell_type": "code",
   "execution_count": 5,
   "id": "2894fb1d-c9e5-4043-a47e-51e2c2da6de8",
   "metadata": {},
   "outputs": [
    {
     "name": "stdout",
     "output_type": "stream",
     "text": [
      "The match object looks like this: <re.Match object; span=(23, 30), match=' $0.25 '>\n"
     ]
    }
   ],
   "source": [
    "#The following code will use our compiled regex to see if there's a match in the string '$0.25':\n",
    "\n",
    "match = compiled_regex.search('The parking meter costs $0.25 per 15 minutes.')\n",
    "print('The match object looks like this:', match)"
   ]
  },
  {
   "cell_type": "code",
   "execution_count": 6,
   "id": "eed8ce0b-5b59-497e-bf80-18feaeb6f6bf",
   "metadata": {},
   "outputs": [
    {
     "data": {
      "text/plain": [
       "re.Match"
      ]
     },
     "execution_count": 6,
     "metadata": {},
     "output_type": "execute_result"
    }
   ],
   "source": [
    "type (match)"
   ]
  },
  {
   "cell_type": "markdown",
   "id": "2724b252-455a-4941-8210-7f8e14f44b83",
   "metadata": {},
   "source": [
    "By the way, look at what happens to the match object when there isn't a match:"
   ]
  },
  {
   "cell_type": "code",
   "execution_count": 7,
   "id": "9e6c1886-b986-4a2f-a7d6-ed79d7f3ccc5",
   "metadata": {},
   "outputs": [
    {
     "name": "stdout",
     "output_type": "stream",
     "text": [
      "The match object looks like this: None\n"
     ]
    }
   ],
   "source": [
    "match = compiled_regex.search('The parking meter costs $0.254 per 15 minutes.')\n",
    "print('The match object looks like this:', match)"
   ]
  },
  {
   "cell_type": "markdown",
   "id": "48b72f03-5616-475c-84a6-4c9b091b96f5",
   "metadata": {},
   "source": [
    "When there's no match, a value of `None` is returned.\n",
    "\n",
    "**STEP 3.** If the match object returns a match, it evaluates to `True` and if it's `None`, it evaluates to `False`. Therefore, you can use an `if` statement to see if there's a match. "
   ]
  },
  {
   "cell_type": "code",
   "execution_count": 8,
   "id": "e702f43c-1a6c-417f-a33f-fa192cc9e3e6",
   "metadata": {},
   "outputs": [
    {
     "name": "stdout",
     "output_type": "stream",
     "text": [
      "There isn't a match.\n"
     ]
    }
   ],
   "source": [
    "if match:\n",
    "    print('There\\'s a match!')\n",
    "else:\n",
    "    print('There isn\\'t a match.') #Remember, the previous code block found no match"
   ]
  },
  {
   "cell_type": "markdown",
   "id": "096b2dc6-7bfd-4c01-b995-33670bec9a2b",
   "metadata": {},
   "source": [
    "**STEP 4.** Usually, you'll want not just to check if there's a match, but do something with the match. For that, you use the `.group()` method and you group whatever information you need with parentheses () in your initial regular expression string.\n",
    "\n",
    "Here, I've re-written the regex to include 2 groups, 1 for the dollars and 1 for the cents:"
   ]
  },
  {
   "cell_type": "code",
   "execution_count": 11,
   "id": "3c378e12-065e-4bc3-bff1-d2bd49efa0b5",
   "metadata": {},
   "outputs": [],
   "source": [
    "regex2 = \" \\$([0-9]|[1-9][0-9]+)\\.(\\d\\d) \"\n",
    "compiled_regex2 = re.compile(regex2)\n",
    "match2 = compiled_regex2.search('Your order total is $101.14 today.')"
   ]
  },
  {
   "cell_type": "markdown",
   "id": "55f4706e-b95d-402d-baa7-922077ef8385",
   "metadata": {},
   "source": [
    "Now, we can use `.group(1)` to access the dollars and `.group(2)` to access the cents:"
   ]
  },
  {
   "cell_type": "code",
   "execution_count": 12,
   "id": "7db0aba8-6351-4c0a-959b-657299d11dcc",
   "metadata": {},
   "outputs": [
    {
     "name": "stdout",
     "output_type": "stream",
     "text": [
      "The dollars are 101 and the cents are 14\n"
     ]
    }
   ],
   "source": [
    "if match2:\n",
    "    print(f'The dollars are {match2.group(1)} and the cents are {match2.group(2)}')\n",
    "else:\n",
    "    print('There was no match')"
   ]
  },
  {
   "cell_type": "markdown",
   "id": "7722ec90-2456-4416-81f1-bd616aff932c",
   "metadata": {},
   "source": [
    "### Part 2 - Looping to Find a Match\n",
    "\n",
    "Now that you've got the basics, try writing a program that will loop through the following text to print out the hours and the minutes for each time listed. To help get you started, I've split the multi-line text into a list of strings separated at the line breaks."
   ]
  },
  {
   "cell_type": "code",
   "execution_count": 13,
   "id": "98d6378c-6100-46b5-8cd5-b460876bafae",
   "metadata": {},
   "outputs": [],
   "source": [
    "text = '''\n",
    "The time is 0:15 right now    # quarter past midnight\n",
    "The time is 0:07 right now   # 7 past midnight\n",
    "The time is 4:59 right now\n",
    "And here are a few more...\n",
    "The time is 12:07 right now   # 7 past noon\n",
    "The time is 23:00 right now  # 11pm\n",
    "The time is 10:13 right now\n",
    "The time is 6:00 right now\n",
    "The time is NOT 123:456 right now\n",
    "'''\n",
    "text_list = text.split('\\n')"
   ]
  },
  {
   "cell_type": "code",
   "execution_count": 14,
   "id": "b233fb70-f235-4d8f-b9da-3dfa6f0d3eeb",
   "metadata": {},
   "outputs": [
    {
     "data": {
      "text/plain": [
       "['',\n",
       " 'The time is 0:15 right now    # quarter past midnight',\n",
       " 'The time is 0:07 right now   # 7 past midnight',\n",
       " 'The time is 4:59 right now',\n",
       " 'And here are a few more...',\n",
       " 'The time is 12:07 right now   # 7 past noon',\n",
       " 'The time is 23:00 right now  # 11pm',\n",
       " 'The time is 10:13 right now',\n",
       " 'The time is 6:00 right now',\n",
       " 'The time is NOT 123:456 right now',\n",
       " '']"
      ]
     },
     "execution_count": 14,
     "metadata": {},
     "output_type": "execute_result"
    }
   ],
   "source": [
    "text_list"
   ]
  },
  {
   "cell_type": "markdown",
   "id": "8035b9a9-26d7-4a80-831d-f3b1e9906d95",
   "metadata": {},
   "source": [
    "To help get you started, the following code block contains the regular expression for the 24-hour time format that we created last class. You may need to modify it to match all of the times and to capture the hours and minutes successfully."
   ]
  },
  {
   "cell_type": "code",
   "execution_count": 16,
   "id": "a14731a9-1bac-4805-b404-428908b86ae8",
   "metadata": {},
   "outputs": [],
   "source": [
    "time_exp = ' (\\d|1\\d|2[0-3]):[0-5]\\d '\n",
    "compiled_time_exp = re.compile(time_exp)\n",
    "match = compiled_time_exp.search()"
   ]
  },
  {
   "cell_type": "code",
   "execution_count": null,
   "id": "30cf4e9e-583b-4931-bada-d66a7d08cb02",
   "metadata": {},
   "outputs": [],
   "source": [
    "# Need answer"
   ]
  },
  {
   "cell_type": "markdown",
   "id": "e129fe60-9606-46dc-95b0-7ae24cec7c02",
   "metadata": {},
   "source": [
    "### Exercise 1\n",
    "\n",
    "Here's another one for you to try. Create a regular expression and write a program that will list the dates and times for successful logins ONLY from the following logfile data.\n",
    "\n",
    "Your program should print out something that looks like this (notice the different date format):\n",
    "```\n",
    "Login successful on 09/05/2020 at 11:24.\n",
    "Login successful on 09/06/2020 at 09:17.\n",
    "```\n",
    "\n",
    "*Tip: Remember that you can use `\\d` instead of `[0-9]`.*"
   ]
  },
  {
   "cell_type": "code",
   "execution_count": 17,
   "id": "fbd7a287-2127-479e-a8af-720bbfd14523",
   "metadata": {},
   "outputs": [],
   "source": [
    "logfile_data = [\n",
    "    '2020-09-05T11:24 Login successful',\n",
    "    '2020-09-05T12:15 Error: file not found',\n",
    "    '2020-09-05T13:07 Logout successful',\n",
    "    '2020-09-06T09:16 Login error: bad username',\n",
    "    '2020-09-06T09:17 Login successful'\n",
    "]"
   ]
  },
  {
   "cell_type": "code",
   "execution_count": 26,
   "id": "8a44c8c6-9f37-47c1-aae7-6a4149400e76",
   "metadata": {},
   "outputs": [
    {
     "name": "stdout",
     "output_type": "stream",
     "text": [
      "Successful login on 09/05/2020 at 11:24\n",
      "Successful login on 09/06/2020 at 09:17\n"
     ]
    }
   ],
   "source": [
    "log_exp = \"(\\d\\d\\d\\d)-(\\d\\d)-(\\d\\d)T(\\d\\d:\\d\\d) Login successful\"\n",
    "comp_log = re.compile(log_exp)\n",
    "\n",
    "for transaction in logfile_data:\n",
    "    match = comp_log.search(transaction)\n",
    "    if match:\n",
    "        print(f\"Successful login on {match.group(2)}/{match.group(3)}/{match.group(1)} at {match.group(4)}\")"
   ]
  },
  {
   "cell_type": "markdown",
   "id": "323ded8a-59b3-4db8-b597-f5b78ca04829",
   "metadata": {},
   "source": [
    "### Exercise 2\n",
    "\n",
    "Revise your code from the above, this time to save the data in a dictionary called `logdata`. The primary keys should be the date and, for each date, there should be a dictionary with the times and login outcomes. Your final dictionary should look like this:\n",
    "\n",
    "```\n",
    "{'2020-09-05': {'11:24': 'Login successful',\n",
    "  '12:15': 'Error: file not found',\n",
    "  '13:07': 'Logout successful'},\n",
    " '2020-09-06': {'09:16': 'Login error: bad username',\n",
    "  '09:17': 'Login successful'}}\n",
    "```"
   ]
  },
  {
   "cell_type": "code",
   "execution_count": 32,
   "id": "45a95984-df33-4e87-a160-1393075dcc65",
   "metadata": {},
   "outputs": [
    {
     "data": {
      "text/plain": [
       "{'2020': {'09': '06'}}"
      ]
     },
     "execution_count": 32,
     "metadata": {},
     "output_type": "execute_result"
    }
   ],
   "source": [
    "log2_exp = \"(\\d\\d\\d\\d)-(\\d\\d)-(\\d\\d)T(\\d\\d:\\d\\d) (.*)$\"\n",
    "comp_log2 = re.compile(log2_exp)\n",
    "\n",
    "logdata = {}\n",
    "\n",
    "for transaction in logfile_data:\n",
    "    match = comp_log2.search(transaction)\n",
    "    if match:\n",
    "        date = match.group(1)\n",
    "        time = match.group(2)\n",
    "        outcome = match.group(3)\n",
    "        \n",
    "    if date not in logdata:\n",
    "        logdata[date] = {time:outcome}\n",
    "    else:\n",
    "        logdata[date][time] = outcome\n",
    "        \n",
    "logdata"
   ]
  },
  {
   "cell_type": "markdown",
   "id": "c0a6ef03-faca-47a4-b44d-73cef5792072",
   "metadata": {
    "slideshow": {
     "slide_type": "slide"
    },
    "tags": []
   },
   "source": [
    "### Exercise 3\n",
    "\n",
    "You are given a text from a financial news article.  Write and compile a regular expression to extract the ticker symbol for the company highlighted in each article.  (Here *ticker* is used to mean a symbol representing a company in the stock market.)  \n",
    "\n",
    "Write just one regex that should work to extract the company from either of the three strings.\n",
    "\n",
    "inspiration from:  https://holypython.com/advanced-python-exercises/project-regular-expressions-regex/"
   ]
  },
  {
   "cell_type": "code",
   "execution_count": null,
   "id": "f1f10472-fe91-48c2-bccb-73afdbaabd9f",
   "metadata": {
    "slideshow": {
     "slide_type": "slide"
    },
    "tags": []
   },
   "outputs": [],
   "source": [
    "text1 = \"\"\"This morning's inflation numbers tell a story: \n",
    "Prices are going up faster than they have in 40 years, cutting into profits. \n",
    "But Tyson Foods (TSN: 88.82) saw its profits soar by double digits last quarter.  \"\"\"\n",
    "\n",
    "text2 = \"\"\"Joe Rogan's podcast will remain on Spotify (SPOT: 157.31) following \n",
    "controversies over COVID misinformation\"\"\"\n",
    "\n",
    "text3 = \"\"\"Alcoa Corporation (AA: 90.07) plans to announce its first quarter 2022 \n",
    "financial results on Wednesday, April 20, 2022 after the close of trading on the \n",
    "New York Stock Exchange. \"\"\"\n"
   ]
  },
  {
   "cell_type": "code",
   "execution_count": null,
   "id": "8dbb0e75-307d-4f6b-882d-1da703db8f46",
   "metadata": {
    "slideshow": {
     "slide_type": "fragment"
    },
    "tags": []
   },
   "outputs": [],
   "source": [
    "#Write your code here"
   ]
  },
  {
   "cell_type": "markdown",
   "id": "ad55be90-17b1-4317-b17a-f650a14739d2",
   "metadata": {
    "slideshow": {
     "slide_type": "slide"
    },
    "tags": []
   },
   "source": [
    "### Exercise 4\n",
    "\n",
    "Now redo Exercise 3 so that you do not include anything besides the ticker symbol for each company.  If you have time then also return the prices--it's OK to return a list of tuples where the first element is the ticker symbol and the second is the price.\n",
    "\n",
    "source:  https://holypython.com/advanced-python-exercises/project-regular-expressions-regex/"
   ]
  },
  {
   "cell_type": "code",
   "execution_count": null,
   "id": "f4be0ab7-fe1f-4af6-98b3-f27b3b4e6c99",
   "metadata": {
    "slideshow": {
     "slide_type": "slide"
    },
    "tags": []
   },
   "outputs": [],
   "source": [
    "text1 = \"\"\"This morning's inflation numbers tell a story: \n",
    "Prices are going up faster than they have in 40 years, cutting into profits. \n",
    "But Tyson Foods (TSN: 88.82) saw its profits soar by double digits last quarter.  \"\"\"\n",
    "\n",
    "text2 = \"\"\"Joe Rogan's podcast will remain on Spotify (SPOT: 157.31) following \n",
    "controversies over COVID misinformation\"\"\"\n",
    "\n",
    "text3 = \"\"\"Alcoa Corporation (AA: 90.07) plans to announce its first quarter 2022 \n",
    "financial results on Wednesday, April 20, 2022 after the close of trading on the \n",
    "New York Stock Exchange. \"\"\"\n"
   ]
  },
  {
   "cell_type": "code",
   "execution_count": null,
   "id": "ff5e1534-25ad-4a33-a34c-01bca57c0968",
   "metadata": {
    "slideshow": {
     "slide_type": "skip"
    },
    "tags": []
   },
   "outputs": [],
   "source": [
    "#Write your code here"
   ]
  },
  {
   "cell_type": "markdown",
   "id": "49c1446d-ec8d-4476-9585-ef2af3e50244",
   "metadata": {},
   "source": [
    "### `.findall()` method\n",
    "The `.findall()` method will return all instances of a match in a list. For example, let's say you have the following line of text:"
   ]
  },
  {
   "cell_type": "code",
   "execution_count": null,
   "id": "5ab5d0db-0e5f-4656-9135-9a03af4820c8",
   "metadata": {},
   "outputs": [],
   "source": [
    "s = 'Future meetings of the Order of the Phoenix will be held on the following dates: 10/24/21, 11/10/21, and 12/5/21.'"
   ]
  },
  {
   "cell_type": "markdown",
   "id": "5c7546e8-d271-4128-80e5-2c20bf850e85",
   "metadata": {},
   "source": [
    "If you want to pull out the meeting dates, you can create a regular expression to match the date format and then use `.findall()`:"
   ]
  },
  {
   "cell_type": "code",
   "execution_count": null,
   "id": "4ff352c6-f9c8-466c-aca2-4dd0586e4d2b",
   "metadata": {
    "tags": []
   },
   "outputs": [],
   "source": [
    "date_ex = '\\d\\d?/\\d\\d?/\\d\\d'\n",
    "compiled_date = re.compile(date_ex)\n",
    "date_list = compiled_date.findall(s)\n",
    "print(f'The meeting dates are:', date_list)"
   ]
  },
  {
   "cell_type": "markdown",
   "id": "af383194-b1af-4519-a8b9-58c334796465",
   "metadata": {
    "slideshow": {
     "slide_type": "slide"
    },
    "tags": []
   },
   "source": [
    "### Exercise 5\n",
    "Create a list of all html tags in the string below.  An html tag can be found inside <> characters; the first word is the tag, and remaining words are parameters.  (A tag that starts with </ is a closing tag, and there is one to match each tag.  For this exercise it is OK to find only those that are not closing tags, and it's also OK to have duplicate tags.)"
   ]
  },
  {
   "cell_type": "code",
   "execution_count": null,
   "id": "f6352bfc-31e3-4913-9854-2c611c3ef8b4",
   "metadata": {
    "slideshow": {
     "slide_type": "fragment"
    },
    "tags": []
   },
   "outputs": [],
   "source": [
    "text4 = \"\"\"<html lang=\"en\" dir=\"ltr\">\n",
    "  <head>\n",
    "    <meta charset=\"utf-8\">\n",
    "    <title>this is some text</title>\n",
    "  </head>\n",
    "  <body>\n",
    "    \n",
    "  </body>\n",
    "</html>\"\"\""
   ]
  },
  {
   "cell_type": "code",
   "execution_count": null,
   "id": "0e7001f9-1a37-4843-9526-8984cf91c36b",
   "metadata": {},
   "outputs": [],
   "source": [
    "#Write your code here"
   ]
  },
  {
   "cell_type": "markdown",
   "id": "a010983e-b3a4-4eb0-b3af-29e9c0d3a27f",
   "metadata": {
    "slideshow": {
     "slide_type": "slide"
    },
    "tags": []
   },
   "source": [
    "### `.findall()` with multiple capture groups\n",
    "\n",
    "If you use `.findall()` with capture groups you will get a list of tuples, where the first element in the tuple is group 1, the second group 2, and so on."
   ]
  },
  {
   "cell_type": "code",
   "execution_count": null,
   "id": "42dbc076-dd6b-4424-a793-482f9e3a87a3",
   "metadata": {
    "slideshow": {
     "slide_type": "fragment"
    },
    "tags": []
   },
   "outputs": [],
   "source": [
    "text5 = \"\"\"This morning's inflation numbers tell a story:  Prices are going up faster than they have in 40 years, cutting into profits. \n",
    "But Tyson Foods (TSN: 88.82) saw its profits soar by double digits last quarter.  In other news, Joe Rogan's podcast will remain on Spotify \n",
    "(SPOT: 157.31) following controversies over COVID misinformation.  And finally, Alcoa Corporation (AA: 90.07) plans to announce its first \n",
    "quarter 2022 financial results on Wednesday, April 20, 2022 after the close of trading on the New York Stock Exchange.\"\"\"\n"
   ]
  },
  {
   "cell_type": "code",
   "execution_count": null,
   "id": "bfe35188-5f0c-49c8-932d-bc751c4f0185",
   "metadata": {
    "slideshow": {
     "slide_type": "fragment"
    },
    "tags": []
   },
   "outputs": [],
   "source": [
    "grouped_regex ='([A-Z]+): (\\d+.\\d\\d)' # Step 1\n",
    "grouped_regex_c = re.compile(grouped_regex) #Step 2\n",
    "\n",
    "match_all_list2 = grouped_regex_c.findall(text5)  #Steps 3 and 4 combined\n",
    "\n",
    "match_all_list2"
   ]
  },
  {
   "cell_type": "markdown",
   "id": "ff8b665e-0e21-4c9b-8aa2-3cdc1aa27c02",
   "metadata": {
    "slideshow": {
     "slide_type": "slide"
    },
    "tags": []
   },
   "source": [
    "### Exercise 6\n",
    "\n",
    "Write code to extract all the filenames and extensions from the text below, where the name of the file and the file extension (the part that comes after the .) are separated.  (Use 2 capture groups.)"
   ]
  },
  {
   "cell_type": "code",
   "execution_count": null,
   "id": "1cd7ebfb-5a6c-48d8-bc25-91d9e448d24a",
   "metadata": {
    "slideshow": {
     "slide_type": "fragment"
    },
    "tags": []
   },
   "outputs": [],
   "source": [
    "text6 = \"\"\"Download Class 28 Worksheet RegularExpressions2.ipynb and the file logins.txt.\n",
    "  Move both to your course folder and open the worksheet in Jupyter Lab.  A reference that may help:  \n",
    "  it's a regex cheatsheet where the topics that we'll cover in this course are highlighted with red boxes:  regex_cheatsheetClass27.pdf.\"\"\""
   ]
  },
  {
   "cell_type": "code",
   "execution_count": null,
   "id": "13129437-fc57-407c-889b-fa50731d6614",
   "metadata": {
    "slideshow": {
     "slide_type": "skip"
    },
    "tags": []
   },
   "outputs": [],
   "source": [
    "#Write your code here"
   ]
  }
 ],
 "metadata": {
  "kernelspec": {
   "display_name": "Python 3 (ipykernel)",
   "language": "python",
   "name": "python3"
  },
  "language_info": {
   "codemirror_mode": {
    "name": "ipython",
    "version": 3
   },
   "file_extension": ".py",
   "mimetype": "text/x-python",
   "name": "python",
   "nbconvert_exporter": "python",
   "pygments_lexer": "ipython3",
   "version": "3.10.8"
  }
 },
 "nbformat": 4,
 "nbformat_minor": 5
}
